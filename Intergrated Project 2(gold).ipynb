{
 "cells": [
  {
   "cell_type": "markdown",
   "id": "3ff960da",
   "metadata": {},
   "source": [
    "# Prepare a prototype of a machine learning model for Zyfra. The company develops efficiency solutions for heavy industry.\n",
    "The model should predict the amount of gold recovered from gold ore. You have the data on extraction and purification.\n",
    "# Goal: \n",
    " To optimize the production and eliminate unprofitable parameters."
   ]
  },
  {
   "cell_type": "markdown",
   "id": "f2b4ac9c",
   "metadata": {},
   "source": [
    "# Data description\n",
    "Technological process\n",
    "- Rougher feed — raw material\n",
    "- Rougher additions (or reagent additions) — flotation reagents: Xanthate, Sulphate, Depressant\n",
    "- Xanthate — promoter or flotation activator;\n",
    "- Sulphate — sodium sulphide for this particular process;\n",
    "- Depressant — sodium silicate.\n",
    "- Rougher process — flotation\n",
    "- Rougher tails — product residues\n",
    "- Float banks — flotation unit\n",
    "- Cleaner process — purification\n",
    "- Rougher Au — rougher gold concentrate\n",
    "- Final Au — final gold concentrate"
   ]
  },
  {
   "cell_type": "markdown",
   "id": "9ba50803",
   "metadata": {},
   "source": [
    "# Parameters of stages\n",
    "- air amount — volume of air\n",
    "- fluid levels\n",
    "- feed size — feed particle size\n",
    "- feed rate"
   ]
  },
  {
   "cell_type": "markdown",
   "id": "8fe008bd",
   "metadata": {},
   "source": [
    "# Feature naming\n",
    " Here's how you name the features:\n",
    " [stage].[parameter_type].[parameter_name]\n",
    "Example: rougher.input.feed_ag\n",
    "Possible values for [stage]:\n",
    " - rougher — flotation\n",
    " - primary_cleaner — primary purification\n",
    " - secondary_cleaner — secondary purification\n",
    " - final — final characteristics\n",
    " Possible values for [parameter_type]:\n",
    " - input — raw material parameters\n",
    " - output — product parameters\n",
    " - state — parameters characterizing the current state of the stage\n",
    " - calculation — calculation characteristics"
   ]
  },
  {
   "cell_type": "code",
   "execution_count": 65,
   "id": "2c83aaa1",
   "metadata": {},
   "outputs": [],
   "source": [
    "\n",
    "import pandas as pd\n",
    "import matplotlib.pyplot as plt\n",
    "import numpy as np\n",
    "import seaborn as sns\n",
    "sns.set(rc={'figure.figsize':(11.7,8.27)})\n",
    "\n",
    "\n",
    "from sklearn.preprocessing import StandardScaler \n",
    "from sklearn.model_selection import train_test_split, GridSearchCV\n",
    "\n",
    "from sklearn.model_selection import cross_val_score\n",
    "from sklearn.metrics import make_scorer\n",
    "from sklearn.pipeline import Pipeline\n",
    "\n",
    "\n",
    "from sklearn.dummy import DummyRegressor\n",
    "from sklearn.ensemble import RandomForestRegressor\n",
    "from sklearn.linear_model import LinearRegression\n",
    "from sklearn.linear_model import ElasticNet\n",
    "from sklearn.linear_model import Lasso\n",
    "\n",
    "\n",
    "import warnings\n",
    "warnings.filterwarnings('ignore')\n",
    "pd.options.mode.chained_assignment = None   "
   ]
  },
  {
   "cell_type": "code",
   "execution_count": 2,
   "id": "d475a3b2",
   "metadata": {},
   "outputs": [],
   "source": [
    "#importing Datasets \n",
    "try:\n",
    "    train = pd.read_csv('gold_recovery_train (1).csv')\n",
    "    test = pd.read_csv( 'gold_recovery_test.csv')\n",
    "    full= pd.read_csv('gold_recovery_full.csv')\n",
    "except:\n",
    "    train = pd.read_csv('/datasets/gold_recovery_train.csv')\n",
    "    test = pd.read_csv( '/datasets/gold_recovery_test.csv')\n",
    "    full= pd.read_csv('/datasets/gold_recovery_full.csv')\n"
   ]
  },
  {
   "cell_type": "code",
   "execution_count": 3,
   "id": "da81f46b",
   "metadata": {},
   "outputs": [
    {
     "data": {
      "text/html": [
       "<div>\n",
       "<style scoped>\n",
       "    .dataframe tbody tr th:only-of-type {\n",
       "        vertical-align: middle;\n",
       "    }\n",
       "\n",
       "    .dataframe tbody tr th {\n",
       "        vertical-align: top;\n",
       "    }\n",
       "\n",
       "    .dataframe thead th {\n",
       "        text-align: right;\n",
       "    }\n",
       "</style>\n",
       "<table border=\"1\" class=\"dataframe\">\n",
       "  <thead>\n",
       "    <tr style=\"text-align: right;\">\n",
       "      <th></th>\n",
       "      <th>date</th>\n",
       "      <th>final.output.concentrate_ag</th>\n",
       "      <th>final.output.concentrate_pb</th>\n",
       "      <th>final.output.concentrate_sol</th>\n",
       "      <th>final.output.concentrate_au</th>\n",
       "      <th>final.output.recovery</th>\n",
       "      <th>final.output.tail_ag</th>\n",
       "      <th>final.output.tail_pb</th>\n",
       "      <th>final.output.tail_sol</th>\n",
       "      <th>final.output.tail_au</th>\n",
       "      <th>...</th>\n",
       "      <th>secondary_cleaner.state.floatbank4_a_air</th>\n",
       "      <th>secondary_cleaner.state.floatbank4_a_level</th>\n",
       "      <th>secondary_cleaner.state.floatbank4_b_air</th>\n",
       "      <th>secondary_cleaner.state.floatbank4_b_level</th>\n",
       "      <th>secondary_cleaner.state.floatbank5_a_air</th>\n",
       "      <th>secondary_cleaner.state.floatbank5_a_level</th>\n",
       "      <th>secondary_cleaner.state.floatbank5_b_air</th>\n",
       "      <th>secondary_cleaner.state.floatbank5_b_level</th>\n",
       "      <th>secondary_cleaner.state.floatbank6_a_air</th>\n",
       "      <th>secondary_cleaner.state.floatbank6_a_level</th>\n",
       "    </tr>\n",
       "  </thead>\n",
       "  <tbody>\n",
       "    <tr>\n",
       "      <th>0</th>\n",
       "      <td>2016-01-15 00:00:00</td>\n",
       "      <td>6.055403</td>\n",
       "      <td>9.889648</td>\n",
       "      <td>5.507324</td>\n",
       "      <td>42.192020</td>\n",
       "      <td>70.541216</td>\n",
       "      <td>10.411962</td>\n",
       "      <td>0.895447</td>\n",
       "      <td>16.904297</td>\n",
       "      <td>2.143149</td>\n",
       "      <td>...</td>\n",
       "      <td>14.016835</td>\n",
       "      <td>-502.488007</td>\n",
       "      <td>12.099931</td>\n",
       "      <td>-504.715942</td>\n",
       "      <td>9.925633</td>\n",
       "      <td>-498.310211</td>\n",
       "      <td>8.079666</td>\n",
       "      <td>-500.470978</td>\n",
       "      <td>14.151341</td>\n",
       "      <td>-605.841980</td>\n",
       "    </tr>\n",
       "    <tr>\n",
       "      <th>1</th>\n",
       "      <td>2016-01-15 01:00:00</td>\n",
       "      <td>6.029369</td>\n",
       "      <td>9.968944</td>\n",
       "      <td>5.257781</td>\n",
       "      <td>42.701629</td>\n",
       "      <td>69.266198</td>\n",
       "      <td>10.462676</td>\n",
       "      <td>0.927452</td>\n",
       "      <td>16.634514</td>\n",
       "      <td>2.224930</td>\n",
       "      <td>...</td>\n",
       "      <td>13.992281</td>\n",
       "      <td>-505.503262</td>\n",
       "      <td>11.950531</td>\n",
       "      <td>-501.331529</td>\n",
       "      <td>10.039245</td>\n",
       "      <td>-500.169983</td>\n",
       "      <td>7.984757</td>\n",
       "      <td>-500.582168</td>\n",
       "      <td>13.998353</td>\n",
       "      <td>-599.787184</td>\n",
       "    </tr>\n",
       "    <tr>\n",
       "      <th>2</th>\n",
       "      <td>2016-01-15 02:00:00</td>\n",
       "      <td>6.055926</td>\n",
       "      <td>10.213995</td>\n",
       "      <td>5.383759</td>\n",
       "      <td>42.657501</td>\n",
       "      <td>68.116445</td>\n",
       "      <td>10.507046</td>\n",
       "      <td>0.953716</td>\n",
       "      <td>16.208849</td>\n",
       "      <td>2.257889</td>\n",
       "      <td>...</td>\n",
       "      <td>14.015015</td>\n",
       "      <td>-502.520901</td>\n",
       "      <td>11.912783</td>\n",
       "      <td>-501.133383</td>\n",
       "      <td>10.070913</td>\n",
       "      <td>-500.129135</td>\n",
       "      <td>8.013877</td>\n",
       "      <td>-500.517572</td>\n",
       "      <td>14.028663</td>\n",
       "      <td>-601.427363</td>\n",
       "    </tr>\n",
       "    <tr>\n",
       "      <th>3</th>\n",
       "      <td>2016-01-15 03:00:00</td>\n",
       "      <td>6.047977</td>\n",
       "      <td>9.977019</td>\n",
       "      <td>4.858634</td>\n",
       "      <td>42.689819</td>\n",
       "      <td>68.347543</td>\n",
       "      <td>10.422762</td>\n",
       "      <td>0.883763</td>\n",
       "      <td>16.532835</td>\n",
       "      <td>2.146849</td>\n",
       "      <td>...</td>\n",
       "      <td>14.036510</td>\n",
       "      <td>-500.857308</td>\n",
       "      <td>11.999550</td>\n",
       "      <td>-501.193686</td>\n",
       "      <td>9.970366</td>\n",
       "      <td>-499.201640</td>\n",
       "      <td>7.977324</td>\n",
       "      <td>-500.255908</td>\n",
       "      <td>14.005551</td>\n",
       "      <td>-599.996129</td>\n",
       "    </tr>\n",
       "    <tr>\n",
       "      <th>4</th>\n",
       "      <td>2016-01-15 04:00:00</td>\n",
       "      <td>6.148599</td>\n",
       "      <td>10.142511</td>\n",
       "      <td>4.939416</td>\n",
       "      <td>42.774141</td>\n",
       "      <td>66.927016</td>\n",
       "      <td>10.360302</td>\n",
       "      <td>0.792826</td>\n",
       "      <td>16.525686</td>\n",
       "      <td>2.055292</td>\n",
       "      <td>...</td>\n",
       "      <td>14.027298</td>\n",
       "      <td>-499.838632</td>\n",
       "      <td>11.953070</td>\n",
       "      <td>-501.053894</td>\n",
       "      <td>9.925709</td>\n",
       "      <td>-501.686727</td>\n",
       "      <td>7.894242</td>\n",
       "      <td>-500.356035</td>\n",
       "      <td>13.996647</td>\n",
       "      <td>-601.496691</td>\n",
       "    </tr>\n",
       "  </tbody>\n",
       "</table>\n",
       "<p>5 rows × 87 columns</p>\n",
       "</div>"
      ],
      "text/plain": [
       "                  date  final.output.concentrate_ag  \\\n",
       "0  2016-01-15 00:00:00                     6.055403   \n",
       "1  2016-01-15 01:00:00                     6.029369   \n",
       "2  2016-01-15 02:00:00                     6.055926   \n",
       "3  2016-01-15 03:00:00                     6.047977   \n",
       "4  2016-01-15 04:00:00                     6.148599   \n",
       "\n",
       "   final.output.concentrate_pb  final.output.concentrate_sol  \\\n",
       "0                     9.889648                      5.507324   \n",
       "1                     9.968944                      5.257781   \n",
       "2                    10.213995                      5.383759   \n",
       "3                     9.977019                      4.858634   \n",
       "4                    10.142511                      4.939416   \n",
       "\n",
       "   final.output.concentrate_au  final.output.recovery  final.output.tail_ag  \\\n",
       "0                    42.192020              70.541216             10.411962   \n",
       "1                    42.701629              69.266198             10.462676   \n",
       "2                    42.657501              68.116445             10.507046   \n",
       "3                    42.689819              68.347543             10.422762   \n",
       "4                    42.774141              66.927016             10.360302   \n",
       "\n",
       "   final.output.tail_pb  final.output.tail_sol  final.output.tail_au  ...  \\\n",
       "0              0.895447              16.904297              2.143149  ...   \n",
       "1              0.927452              16.634514              2.224930  ...   \n",
       "2              0.953716              16.208849              2.257889  ...   \n",
       "3              0.883763              16.532835              2.146849  ...   \n",
       "4              0.792826              16.525686              2.055292  ...   \n",
       "\n",
       "   secondary_cleaner.state.floatbank4_a_air  \\\n",
       "0                                 14.016835   \n",
       "1                                 13.992281   \n",
       "2                                 14.015015   \n",
       "3                                 14.036510   \n",
       "4                                 14.027298   \n",
       "\n",
       "   secondary_cleaner.state.floatbank4_a_level  \\\n",
       "0                                 -502.488007   \n",
       "1                                 -505.503262   \n",
       "2                                 -502.520901   \n",
       "3                                 -500.857308   \n",
       "4                                 -499.838632   \n",
       "\n",
       "   secondary_cleaner.state.floatbank4_b_air  \\\n",
       "0                                 12.099931   \n",
       "1                                 11.950531   \n",
       "2                                 11.912783   \n",
       "3                                 11.999550   \n",
       "4                                 11.953070   \n",
       "\n",
       "   secondary_cleaner.state.floatbank4_b_level  \\\n",
       "0                                 -504.715942   \n",
       "1                                 -501.331529   \n",
       "2                                 -501.133383   \n",
       "3                                 -501.193686   \n",
       "4                                 -501.053894   \n",
       "\n",
       "   secondary_cleaner.state.floatbank5_a_air  \\\n",
       "0                                  9.925633   \n",
       "1                                 10.039245   \n",
       "2                                 10.070913   \n",
       "3                                  9.970366   \n",
       "4                                  9.925709   \n",
       "\n",
       "   secondary_cleaner.state.floatbank5_a_level  \\\n",
       "0                                 -498.310211   \n",
       "1                                 -500.169983   \n",
       "2                                 -500.129135   \n",
       "3                                 -499.201640   \n",
       "4                                 -501.686727   \n",
       "\n",
       "   secondary_cleaner.state.floatbank5_b_air  \\\n",
       "0                                  8.079666   \n",
       "1                                  7.984757   \n",
       "2                                  8.013877   \n",
       "3                                  7.977324   \n",
       "4                                  7.894242   \n",
       "\n",
       "   secondary_cleaner.state.floatbank5_b_level  \\\n",
       "0                                 -500.470978   \n",
       "1                                 -500.582168   \n",
       "2                                 -500.517572   \n",
       "3                                 -500.255908   \n",
       "4                                 -500.356035   \n",
       "\n",
       "   secondary_cleaner.state.floatbank6_a_air  \\\n",
       "0                                 14.151341   \n",
       "1                                 13.998353   \n",
       "2                                 14.028663   \n",
       "3                                 14.005551   \n",
       "4                                 13.996647   \n",
       "\n",
       "   secondary_cleaner.state.floatbank6_a_level  \n",
       "0                                 -605.841980  \n",
       "1                                 -599.787184  \n",
       "2                                 -601.427363  \n",
       "3                                 -599.996129  \n",
       "4                                 -601.496691  \n",
       "\n",
       "[5 rows x 87 columns]"
      ]
     },
     "execution_count": 3,
     "metadata": {},
     "output_type": "execute_result"
    }
   ],
   "source": [
    "train.head()"
   ]
  },
  {
   "cell_type": "code",
   "execution_count": 4,
   "id": "67909471",
   "metadata": {},
   "outputs": [
    {
     "data": {
      "text/html": [
       "<div>\n",
       "<style scoped>\n",
       "    .dataframe tbody tr th:only-of-type {\n",
       "        vertical-align: middle;\n",
       "    }\n",
       "\n",
       "    .dataframe tbody tr th {\n",
       "        vertical-align: top;\n",
       "    }\n",
       "\n",
       "    .dataframe thead th {\n",
       "        text-align: right;\n",
       "    }\n",
       "</style>\n",
       "<table border=\"1\" class=\"dataframe\">\n",
       "  <thead>\n",
       "    <tr style=\"text-align: right;\">\n",
       "      <th></th>\n",
       "      <th>date</th>\n",
       "      <th>primary_cleaner.input.sulfate</th>\n",
       "      <th>primary_cleaner.input.depressant</th>\n",
       "      <th>primary_cleaner.input.feed_size</th>\n",
       "      <th>primary_cleaner.input.xanthate</th>\n",
       "      <th>primary_cleaner.state.floatbank8_a_air</th>\n",
       "      <th>primary_cleaner.state.floatbank8_a_level</th>\n",
       "      <th>primary_cleaner.state.floatbank8_b_air</th>\n",
       "      <th>primary_cleaner.state.floatbank8_b_level</th>\n",
       "      <th>primary_cleaner.state.floatbank8_c_air</th>\n",
       "      <th>...</th>\n",
       "      <th>secondary_cleaner.state.floatbank4_a_air</th>\n",
       "      <th>secondary_cleaner.state.floatbank4_a_level</th>\n",
       "      <th>secondary_cleaner.state.floatbank4_b_air</th>\n",
       "      <th>secondary_cleaner.state.floatbank4_b_level</th>\n",
       "      <th>secondary_cleaner.state.floatbank5_a_air</th>\n",
       "      <th>secondary_cleaner.state.floatbank5_a_level</th>\n",
       "      <th>secondary_cleaner.state.floatbank5_b_air</th>\n",
       "      <th>secondary_cleaner.state.floatbank5_b_level</th>\n",
       "      <th>secondary_cleaner.state.floatbank6_a_air</th>\n",
       "      <th>secondary_cleaner.state.floatbank6_a_level</th>\n",
       "    </tr>\n",
       "  </thead>\n",
       "  <tbody>\n",
       "    <tr>\n",
       "      <th>0</th>\n",
       "      <td>2016-09-01 00:59:59</td>\n",
       "      <td>210.800909</td>\n",
       "      <td>14.993118</td>\n",
       "      <td>8.080000</td>\n",
       "      <td>1.005021</td>\n",
       "      <td>1398.981301</td>\n",
       "      <td>-500.225577</td>\n",
       "      <td>1399.144926</td>\n",
       "      <td>-499.919735</td>\n",
       "      <td>1400.102998</td>\n",
       "      <td>...</td>\n",
       "      <td>12.023554</td>\n",
       "      <td>-497.795834</td>\n",
       "      <td>8.016656</td>\n",
       "      <td>-501.289139</td>\n",
       "      <td>7.946562</td>\n",
       "      <td>-432.317850</td>\n",
       "      <td>4.872511</td>\n",
       "      <td>-500.037437</td>\n",
       "      <td>26.705889</td>\n",
       "      <td>-499.709414</td>\n",
       "    </tr>\n",
       "    <tr>\n",
       "      <th>1</th>\n",
       "      <td>2016-09-01 01:59:59</td>\n",
       "      <td>215.392455</td>\n",
       "      <td>14.987471</td>\n",
       "      <td>8.080000</td>\n",
       "      <td>0.990469</td>\n",
       "      <td>1398.777912</td>\n",
       "      <td>-500.057435</td>\n",
       "      <td>1398.055362</td>\n",
       "      <td>-499.778182</td>\n",
       "      <td>1396.151033</td>\n",
       "      <td>...</td>\n",
       "      <td>12.058140</td>\n",
       "      <td>-498.695773</td>\n",
       "      <td>8.130979</td>\n",
       "      <td>-499.634209</td>\n",
       "      <td>7.958270</td>\n",
       "      <td>-525.839648</td>\n",
       "      <td>4.878850</td>\n",
       "      <td>-500.162375</td>\n",
       "      <td>25.019940</td>\n",
       "      <td>-499.819438</td>\n",
       "    </tr>\n",
       "    <tr>\n",
       "      <th>2</th>\n",
       "      <td>2016-09-01 02:59:59</td>\n",
       "      <td>215.259946</td>\n",
       "      <td>12.884934</td>\n",
       "      <td>7.786667</td>\n",
       "      <td>0.996043</td>\n",
       "      <td>1398.493666</td>\n",
       "      <td>-500.868360</td>\n",
       "      <td>1398.860436</td>\n",
       "      <td>-499.764529</td>\n",
       "      <td>1398.075709</td>\n",
       "      <td>...</td>\n",
       "      <td>11.962366</td>\n",
       "      <td>-498.767484</td>\n",
       "      <td>8.096893</td>\n",
       "      <td>-500.827423</td>\n",
       "      <td>8.071056</td>\n",
       "      <td>-500.801673</td>\n",
       "      <td>4.905125</td>\n",
       "      <td>-499.828510</td>\n",
       "      <td>24.994862</td>\n",
       "      <td>-500.622559</td>\n",
       "    </tr>\n",
       "    <tr>\n",
       "      <th>3</th>\n",
       "      <td>2016-09-01 03:59:59</td>\n",
       "      <td>215.336236</td>\n",
       "      <td>12.006805</td>\n",
       "      <td>7.640000</td>\n",
       "      <td>0.863514</td>\n",
       "      <td>1399.618111</td>\n",
       "      <td>-498.863574</td>\n",
       "      <td>1397.440120</td>\n",
       "      <td>-499.211024</td>\n",
       "      <td>1400.129303</td>\n",
       "      <td>...</td>\n",
       "      <td>12.033091</td>\n",
       "      <td>-498.350935</td>\n",
       "      <td>8.074946</td>\n",
       "      <td>-499.474407</td>\n",
       "      <td>7.897085</td>\n",
       "      <td>-500.868509</td>\n",
       "      <td>4.931400</td>\n",
       "      <td>-499.963623</td>\n",
       "      <td>24.948919</td>\n",
       "      <td>-498.709987</td>\n",
       "    </tr>\n",
       "    <tr>\n",
       "      <th>4</th>\n",
       "      <td>2016-09-01 04:59:59</td>\n",
       "      <td>199.099327</td>\n",
       "      <td>10.682530</td>\n",
       "      <td>7.530000</td>\n",
       "      <td>0.805575</td>\n",
       "      <td>1401.268123</td>\n",
       "      <td>-500.808305</td>\n",
       "      <td>1398.128818</td>\n",
       "      <td>-499.504543</td>\n",
       "      <td>1402.172226</td>\n",
       "      <td>...</td>\n",
       "      <td>12.025367</td>\n",
       "      <td>-500.786497</td>\n",
       "      <td>8.054678</td>\n",
       "      <td>-500.397500</td>\n",
       "      <td>8.107890</td>\n",
       "      <td>-509.526725</td>\n",
       "      <td>4.957674</td>\n",
       "      <td>-500.360026</td>\n",
       "      <td>25.003331</td>\n",
       "      <td>-500.856333</td>\n",
       "    </tr>\n",
       "  </tbody>\n",
       "</table>\n",
       "<p>5 rows × 53 columns</p>\n",
       "</div>"
      ],
      "text/plain": [
       "                  date  primary_cleaner.input.sulfate  \\\n",
       "0  2016-09-01 00:59:59                     210.800909   \n",
       "1  2016-09-01 01:59:59                     215.392455   \n",
       "2  2016-09-01 02:59:59                     215.259946   \n",
       "3  2016-09-01 03:59:59                     215.336236   \n",
       "4  2016-09-01 04:59:59                     199.099327   \n",
       "\n",
       "   primary_cleaner.input.depressant  primary_cleaner.input.feed_size  \\\n",
       "0                         14.993118                         8.080000   \n",
       "1                         14.987471                         8.080000   \n",
       "2                         12.884934                         7.786667   \n",
       "3                         12.006805                         7.640000   \n",
       "4                         10.682530                         7.530000   \n",
       "\n",
       "   primary_cleaner.input.xanthate  primary_cleaner.state.floatbank8_a_air  \\\n",
       "0                        1.005021                             1398.981301   \n",
       "1                        0.990469                             1398.777912   \n",
       "2                        0.996043                             1398.493666   \n",
       "3                        0.863514                             1399.618111   \n",
       "4                        0.805575                             1401.268123   \n",
       "\n",
       "   primary_cleaner.state.floatbank8_a_level  \\\n",
       "0                               -500.225577   \n",
       "1                               -500.057435   \n",
       "2                               -500.868360   \n",
       "3                               -498.863574   \n",
       "4                               -500.808305   \n",
       "\n",
       "   primary_cleaner.state.floatbank8_b_air  \\\n",
       "0                             1399.144926   \n",
       "1                             1398.055362   \n",
       "2                             1398.860436   \n",
       "3                             1397.440120   \n",
       "4                             1398.128818   \n",
       "\n",
       "   primary_cleaner.state.floatbank8_b_level  \\\n",
       "0                               -499.919735   \n",
       "1                               -499.778182   \n",
       "2                               -499.764529   \n",
       "3                               -499.211024   \n",
       "4                               -499.504543   \n",
       "\n",
       "   primary_cleaner.state.floatbank8_c_air  ...  \\\n",
       "0                             1400.102998  ...   \n",
       "1                             1396.151033  ...   \n",
       "2                             1398.075709  ...   \n",
       "3                             1400.129303  ...   \n",
       "4                             1402.172226  ...   \n",
       "\n",
       "   secondary_cleaner.state.floatbank4_a_air  \\\n",
       "0                                 12.023554   \n",
       "1                                 12.058140   \n",
       "2                                 11.962366   \n",
       "3                                 12.033091   \n",
       "4                                 12.025367   \n",
       "\n",
       "   secondary_cleaner.state.floatbank4_a_level  \\\n",
       "0                                 -497.795834   \n",
       "1                                 -498.695773   \n",
       "2                                 -498.767484   \n",
       "3                                 -498.350935   \n",
       "4                                 -500.786497   \n",
       "\n",
       "   secondary_cleaner.state.floatbank4_b_air  \\\n",
       "0                                  8.016656   \n",
       "1                                  8.130979   \n",
       "2                                  8.096893   \n",
       "3                                  8.074946   \n",
       "4                                  8.054678   \n",
       "\n",
       "   secondary_cleaner.state.floatbank4_b_level  \\\n",
       "0                                 -501.289139   \n",
       "1                                 -499.634209   \n",
       "2                                 -500.827423   \n",
       "3                                 -499.474407   \n",
       "4                                 -500.397500   \n",
       "\n",
       "   secondary_cleaner.state.floatbank5_a_air  \\\n",
       "0                                  7.946562   \n",
       "1                                  7.958270   \n",
       "2                                  8.071056   \n",
       "3                                  7.897085   \n",
       "4                                  8.107890   \n",
       "\n",
       "   secondary_cleaner.state.floatbank5_a_level  \\\n",
       "0                                 -432.317850   \n",
       "1                                 -525.839648   \n",
       "2                                 -500.801673   \n",
       "3                                 -500.868509   \n",
       "4                                 -509.526725   \n",
       "\n",
       "   secondary_cleaner.state.floatbank5_b_air  \\\n",
       "0                                  4.872511   \n",
       "1                                  4.878850   \n",
       "2                                  4.905125   \n",
       "3                                  4.931400   \n",
       "4                                  4.957674   \n",
       "\n",
       "   secondary_cleaner.state.floatbank5_b_level  \\\n",
       "0                                 -500.037437   \n",
       "1                                 -500.162375   \n",
       "2                                 -499.828510   \n",
       "3                                 -499.963623   \n",
       "4                                 -500.360026   \n",
       "\n",
       "   secondary_cleaner.state.floatbank6_a_air  \\\n",
       "0                                 26.705889   \n",
       "1                                 25.019940   \n",
       "2                                 24.994862   \n",
       "3                                 24.948919   \n",
       "4                                 25.003331   \n",
       "\n",
       "   secondary_cleaner.state.floatbank6_a_level  \n",
       "0                                 -499.709414  \n",
       "1                                 -499.819438  \n",
       "2                                 -500.622559  \n",
       "3                                 -498.709987  \n",
       "4                                 -500.856333  \n",
       "\n",
       "[5 rows x 53 columns]"
      ]
     },
     "execution_count": 4,
     "metadata": {},
     "output_type": "execute_result"
    }
   ],
   "source": [
    "test.head()"
   ]
  },
  {
   "cell_type": "code",
   "execution_count": 5,
   "id": "553dbd83",
   "metadata": {},
   "outputs": [
    {
     "data": {
      "text/html": [
       "<div>\n",
       "<style scoped>\n",
       "    .dataframe tbody tr th:only-of-type {\n",
       "        vertical-align: middle;\n",
       "    }\n",
       "\n",
       "    .dataframe tbody tr th {\n",
       "        vertical-align: top;\n",
       "    }\n",
       "\n",
       "    .dataframe thead th {\n",
       "        text-align: right;\n",
       "    }\n",
       "</style>\n",
       "<table border=\"1\" class=\"dataframe\">\n",
       "  <thead>\n",
       "    <tr style=\"text-align: right;\">\n",
       "      <th></th>\n",
       "      <th>date</th>\n",
       "      <th>final.output.concentrate_ag</th>\n",
       "      <th>final.output.concentrate_pb</th>\n",
       "      <th>final.output.concentrate_sol</th>\n",
       "      <th>final.output.concentrate_au</th>\n",
       "      <th>final.output.recovery</th>\n",
       "      <th>final.output.tail_ag</th>\n",
       "      <th>final.output.tail_pb</th>\n",
       "      <th>final.output.tail_sol</th>\n",
       "      <th>final.output.tail_au</th>\n",
       "      <th>...</th>\n",
       "      <th>secondary_cleaner.state.floatbank4_a_air</th>\n",
       "      <th>secondary_cleaner.state.floatbank4_a_level</th>\n",
       "      <th>secondary_cleaner.state.floatbank4_b_air</th>\n",
       "      <th>secondary_cleaner.state.floatbank4_b_level</th>\n",
       "      <th>secondary_cleaner.state.floatbank5_a_air</th>\n",
       "      <th>secondary_cleaner.state.floatbank5_a_level</th>\n",
       "      <th>secondary_cleaner.state.floatbank5_b_air</th>\n",
       "      <th>secondary_cleaner.state.floatbank5_b_level</th>\n",
       "      <th>secondary_cleaner.state.floatbank6_a_air</th>\n",
       "      <th>secondary_cleaner.state.floatbank6_a_level</th>\n",
       "    </tr>\n",
       "  </thead>\n",
       "  <tbody>\n",
       "    <tr>\n",
       "      <th>0</th>\n",
       "      <td>2016-01-15 00:00:00</td>\n",
       "      <td>6.055403</td>\n",
       "      <td>9.889648</td>\n",
       "      <td>5.507324</td>\n",
       "      <td>42.192020</td>\n",
       "      <td>70.541216</td>\n",
       "      <td>10.411962</td>\n",
       "      <td>0.895447</td>\n",
       "      <td>16.904297</td>\n",
       "      <td>2.143149</td>\n",
       "      <td>...</td>\n",
       "      <td>14.016835</td>\n",
       "      <td>-502.488007</td>\n",
       "      <td>12.099931</td>\n",
       "      <td>-504.715942</td>\n",
       "      <td>9.925633</td>\n",
       "      <td>-498.310211</td>\n",
       "      <td>8.079666</td>\n",
       "      <td>-500.470978</td>\n",
       "      <td>14.151341</td>\n",
       "      <td>-605.841980</td>\n",
       "    </tr>\n",
       "    <tr>\n",
       "      <th>1</th>\n",
       "      <td>2016-01-15 01:00:00</td>\n",
       "      <td>6.029369</td>\n",
       "      <td>9.968944</td>\n",
       "      <td>5.257781</td>\n",
       "      <td>42.701629</td>\n",
       "      <td>69.266198</td>\n",
       "      <td>10.462676</td>\n",
       "      <td>0.927452</td>\n",
       "      <td>16.634514</td>\n",
       "      <td>2.224930</td>\n",
       "      <td>...</td>\n",
       "      <td>13.992281</td>\n",
       "      <td>-505.503262</td>\n",
       "      <td>11.950531</td>\n",
       "      <td>-501.331529</td>\n",
       "      <td>10.039245</td>\n",
       "      <td>-500.169983</td>\n",
       "      <td>7.984757</td>\n",
       "      <td>-500.582168</td>\n",
       "      <td>13.998353</td>\n",
       "      <td>-599.787184</td>\n",
       "    </tr>\n",
       "    <tr>\n",
       "      <th>2</th>\n",
       "      <td>2016-01-15 02:00:00</td>\n",
       "      <td>6.055926</td>\n",
       "      <td>10.213995</td>\n",
       "      <td>5.383759</td>\n",
       "      <td>42.657501</td>\n",
       "      <td>68.116445</td>\n",
       "      <td>10.507046</td>\n",
       "      <td>0.953716</td>\n",
       "      <td>16.208849</td>\n",
       "      <td>2.257889</td>\n",
       "      <td>...</td>\n",
       "      <td>14.015015</td>\n",
       "      <td>-502.520901</td>\n",
       "      <td>11.912783</td>\n",
       "      <td>-501.133383</td>\n",
       "      <td>10.070913</td>\n",
       "      <td>-500.129135</td>\n",
       "      <td>8.013877</td>\n",
       "      <td>-500.517572</td>\n",
       "      <td>14.028663</td>\n",
       "      <td>-601.427363</td>\n",
       "    </tr>\n",
       "    <tr>\n",
       "      <th>3</th>\n",
       "      <td>2016-01-15 03:00:00</td>\n",
       "      <td>6.047977</td>\n",
       "      <td>9.977019</td>\n",
       "      <td>4.858634</td>\n",
       "      <td>42.689819</td>\n",
       "      <td>68.347543</td>\n",
       "      <td>10.422762</td>\n",
       "      <td>0.883763</td>\n",
       "      <td>16.532835</td>\n",
       "      <td>2.146849</td>\n",
       "      <td>...</td>\n",
       "      <td>14.036510</td>\n",
       "      <td>-500.857308</td>\n",
       "      <td>11.999550</td>\n",
       "      <td>-501.193686</td>\n",
       "      <td>9.970366</td>\n",
       "      <td>-499.201640</td>\n",
       "      <td>7.977324</td>\n",
       "      <td>-500.255908</td>\n",
       "      <td>14.005551</td>\n",
       "      <td>-599.996129</td>\n",
       "    </tr>\n",
       "    <tr>\n",
       "      <th>4</th>\n",
       "      <td>2016-01-15 04:00:00</td>\n",
       "      <td>6.148599</td>\n",
       "      <td>10.142511</td>\n",
       "      <td>4.939416</td>\n",
       "      <td>42.774141</td>\n",
       "      <td>66.927016</td>\n",
       "      <td>10.360302</td>\n",
       "      <td>0.792826</td>\n",
       "      <td>16.525686</td>\n",
       "      <td>2.055292</td>\n",
       "      <td>...</td>\n",
       "      <td>14.027298</td>\n",
       "      <td>-499.838632</td>\n",
       "      <td>11.953070</td>\n",
       "      <td>-501.053894</td>\n",
       "      <td>9.925709</td>\n",
       "      <td>-501.686727</td>\n",
       "      <td>7.894242</td>\n",
       "      <td>-500.356035</td>\n",
       "      <td>13.996647</td>\n",
       "      <td>-601.496691</td>\n",
       "    </tr>\n",
       "  </tbody>\n",
       "</table>\n",
       "<p>5 rows × 87 columns</p>\n",
       "</div>"
      ],
      "text/plain": [
       "                  date  final.output.concentrate_ag  \\\n",
       "0  2016-01-15 00:00:00                     6.055403   \n",
       "1  2016-01-15 01:00:00                     6.029369   \n",
       "2  2016-01-15 02:00:00                     6.055926   \n",
       "3  2016-01-15 03:00:00                     6.047977   \n",
       "4  2016-01-15 04:00:00                     6.148599   \n",
       "\n",
       "   final.output.concentrate_pb  final.output.concentrate_sol  \\\n",
       "0                     9.889648                      5.507324   \n",
       "1                     9.968944                      5.257781   \n",
       "2                    10.213995                      5.383759   \n",
       "3                     9.977019                      4.858634   \n",
       "4                    10.142511                      4.939416   \n",
       "\n",
       "   final.output.concentrate_au  final.output.recovery  final.output.tail_ag  \\\n",
       "0                    42.192020              70.541216             10.411962   \n",
       "1                    42.701629              69.266198             10.462676   \n",
       "2                    42.657501              68.116445             10.507046   \n",
       "3                    42.689819              68.347543             10.422762   \n",
       "4                    42.774141              66.927016             10.360302   \n",
       "\n",
       "   final.output.tail_pb  final.output.tail_sol  final.output.tail_au  ...  \\\n",
       "0              0.895447              16.904297              2.143149  ...   \n",
       "1              0.927452              16.634514              2.224930  ...   \n",
       "2              0.953716              16.208849              2.257889  ...   \n",
       "3              0.883763              16.532835              2.146849  ...   \n",
       "4              0.792826              16.525686              2.055292  ...   \n",
       "\n",
       "   secondary_cleaner.state.floatbank4_a_air  \\\n",
       "0                                 14.016835   \n",
       "1                                 13.992281   \n",
       "2                                 14.015015   \n",
       "3                                 14.036510   \n",
       "4                                 14.027298   \n",
       "\n",
       "   secondary_cleaner.state.floatbank4_a_level  \\\n",
       "0                                 -502.488007   \n",
       "1                                 -505.503262   \n",
       "2                                 -502.520901   \n",
       "3                                 -500.857308   \n",
       "4                                 -499.838632   \n",
       "\n",
       "   secondary_cleaner.state.floatbank4_b_air  \\\n",
       "0                                 12.099931   \n",
       "1                                 11.950531   \n",
       "2                                 11.912783   \n",
       "3                                 11.999550   \n",
       "4                                 11.953070   \n",
       "\n",
       "   secondary_cleaner.state.floatbank4_b_level  \\\n",
       "0                                 -504.715942   \n",
       "1                                 -501.331529   \n",
       "2                                 -501.133383   \n",
       "3                                 -501.193686   \n",
       "4                                 -501.053894   \n",
       "\n",
       "   secondary_cleaner.state.floatbank5_a_air  \\\n",
       "0                                  9.925633   \n",
       "1                                 10.039245   \n",
       "2                                 10.070913   \n",
       "3                                  9.970366   \n",
       "4                                  9.925709   \n",
       "\n",
       "   secondary_cleaner.state.floatbank5_a_level  \\\n",
       "0                                 -498.310211   \n",
       "1                                 -500.169983   \n",
       "2                                 -500.129135   \n",
       "3                                 -499.201640   \n",
       "4                                 -501.686727   \n",
       "\n",
       "   secondary_cleaner.state.floatbank5_b_air  \\\n",
       "0                                  8.079666   \n",
       "1                                  7.984757   \n",
       "2                                  8.013877   \n",
       "3                                  7.977324   \n",
       "4                                  7.894242   \n",
       "\n",
       "   secondary_cleaner.state.floatbank5_b_level  \\\n",
       "0                                 -500.470978   \n",
       "1                                 -500.582168   \n",
       "2                                 -500.517572   \n",
       "3                                 -500.255908   \n",
       "4                                 -500.356035   \n",
       "\n",
       "   secondary_cleaner.state.floatbank6_a_air  \\\n",
       "0                                 14.151341   \n",
       "1                                 13.998353   \n",
       "2                                 14.028663   \n",
       "3                                 14.005551   \n",
       "4                                 13.996647   \n",
       "\n",
       "   secondary_cleaner.state.floatbank6_a_level  \n",
       "0                                 -605.841980  \n",
       "1                                 -599.787184  \n",
       "2                                 -601.427363  \n",
       "3                                 -599.996129  \n",
       "4                                 -601.496691  \n",
       "\n",
       "[5 rows x 87 columns]"
      ]
     },
     "execution_count": 5,
     "metadata": {},
     "output_type": "execute_result"
    }
   ],
   "source": [
    "full.head()"
   ]
  },
  {
   "cell_type": "code",
   "execution_count": 6,
   "id": "1e397add",
   "metadata": {},
   "outputs": [
    {
     "name": "stdout",
     "output_type": "stream",
     "text": [
      "<class 'pandas.core.frame.DataFrame'>\n",
      "RangeIndex: 16860 entries, 0 to 16859\n",
      "Data columns (total 87 columns):\n",
      " #   Column                                              Non-Null Count  Dtype  \n",
      "---  ------                                              --------------  -----  \n",
      " 0   date                                                16860 non-null  object \n",
      " 1   final.output.concentrate_ag                         16788 non-null  float64\n",
      " 2   final.output.concentrate_pb                         16788 non-null  float64\n",
      " 3   final.output.concentrate_sol                        16490 non-null  float64\n",
      " 4   final.output.concentrate_au                         16789 non-null  float64\n",
      " 5   final.output.recovery                               15339 non-null  float64\n",
      " 6   final.output.tail_ag                                16794 non-null  float64\n",
      " 7   final.output.tail_pb                                16677 non-null  float64\n",
      " 8   final.output.tail_sol                               16715 non-null  float64\n",
      " 9   final.output.tail_au                                16794 non-null  float64\n",
      " 10  primary_cleaner.input.sulfate                       15553 non-null  float64\n",
      " 11  primary_cleaner.input.depressant                    15598 non-null  float64\n",
      " 12  primary_cleaner.input.feed_size                     16860 non-null  float64\n",
      " 13  primary_cleaner.input.xanthate                      15875 non-null  float64\n",
      " 14  primary_cleaner.output.concentrate_ag               16778 non-null  float64\n",
      " 15  primary_cleaner.output.concentrate_pb               16502 non-null  float64\n",
      " 16  primary_cleaner.output.concentrate_sol              16224 non-null  float64\n",
      " 17  primary_cleaner.output.concentrate_au               16778 non-null  float64\n",
      " 18  primary_cleaner.output.tail_ag                      16777 non-null  float64\n",
      " 19  primary_cleaner.output.tail_pb                      16761 non-null  float64\n",
      " 20  primary_cleaner.output.tail_sol                     16579 non-null  float64\n",
      " 21  primary_cleaner.output.tail_au                      16777 non-null  float64\n",
      " 22  primary_cleaner.state.floatbank8_a_air              16820 non-null  float64\n",
      " 23  primary_cleaner.state.floatbank8_a_level            16827 non-null  float64\n",
      " 24  primary_cleaner.state.floatbank8_b_air              16820 non-null  float64\n",
      " 25  primary_cleaner.state.floatbank8_b_level            16833 non-null  float64\n",
      " 26  primary_cleaner.state.floatbank8_c_air              16822 non-null  float64\n",
      " 27  primary_cleaner.state.floatbank8_c_level            16833 non-null  float64\n",
      " 28  primary_cleaner.state.floatbank8_d_air              16821 non-null  float64\n",
      " 29  primary_cleaner.state.floatbank8_d_level            16833 non-null  float64\n",
      " 30  rougher.calculation.sulfate_to_au_concentrate       16833 non-null  float64\n",
      " 31  rougher.calculation.floatbank10_sulfate_to_au_feed  16833 non-null  float64\n",
      " 32  rougher.calculation.floatbank11_sulfate_to_au_feed  16833 non-null  float64\n",
      " 33  rougher.calculation.au_pb_ratio                     15618 non-null  float64\n",
      " 34  rougher.input.feed_ag                               16778 non-null  float64\n",
      " 35  rougher.input.feed_pb                               16632 non-null  float64\n",
      " 36  rougher.input.feed_rate                             16347 non-null  float64\n",
      " 37  rougher.input.feed_size                             16443 non-null  float64\n",
      " 38  rougher.input.feed_sol                              16568 non-null  float64\n",
      " 39  rougher.input.feed_au                               16777 non-null  float64\n",
      " 40  rougher.input.floatbank10_sulfate                   15816 non-null  float64\n",
      " 41  rougher.input.floatbank10_xanthate                  16514 non-null  float64\n",
      " 42  rougher.input.floatbank11_sulfate                   16237 non-null  float64\n",
      " 43  rougher.input.floatbank11_xanthate                  14956 non-null  float64\n",
      " 44  rougher.output.concentrate_ag                       16778 non-null  float64\n",
      " 45  rougher.output.concentrate_pb                       16778 non-null  float64\n",
      " 46  rougher.output.concentrate_sol                      16698 non-null  float64\n",
      " 47  rougher.output.concentrate_au                       16778 non-null  float64\n",
      " 48  rougher.output.recovery                             14287 non-null  float64\n",
      " 49  rougher.output.tail_ag                              14610 non-null  float64\n",
      " 50  rougher.output.tail_pb                              16778 non-null  float64\n",
      " 51  rougher.output.tail_sol                             14611 non-null  float64\n",
      " 52  rougher.output.tail_au                              14611 non-null  float64\n",
      " 53  rougher.state.floatbank10_a_air                     16807 non-null  float64\n",
      " 54  rougher.state.floatbank10_a_level                   16807 non-null  float64\n",
      " 55  rougher.state.floatbank10_b_air                     16807 non-null  float64\n",
      " 56  rougher.state.floatbank10_b_level                   16807 non-null  float64\n",
      " 57  rougher.state.floatbank10_c_air                     16807 non-null  float64\n",
      " 58  rougher.state.floatbank10_c_level                   16814 non-null  float64\n",
      " 59  rougher.state.floatbank10_d_air                     16802 non-null  float64\n",
      " 60  rougher.state.floatbank10_d_level                   16809 non-null  float64\n",
      " 61  rougher.state.floatbank10_e_air                     16257 non-null  float64\n",
      " 62  rougher.state.floatbank10_e_level                   16809 non-null  float64\n",
      " 63  rougher.state.floatbank10_f_air                     16802 non-null  float64\n",
      " 64  rougher.state.floatbank10_f_level                   16802 non-null  float64\n",
      " 65  secondary_cleaner.output.tail_ag                    16776 non-null  float64\n",
      " 66  secondary_cleaner.output.tail_pb                    16764 non-null  float64\n",
      " 67  secondary_cleaner.output.tail_sol                   14874 non-null  float64\n",
      " 68  secondary_cleaner.output.tail_au                    16778 non-null  float64\n",
      " 69  secondary_cleaner.state.floatbank2_a_air            16497 non-null  float64\n",
      " 70  secondary_cleaner.state.floatbank2_a_level          16751 non-null  float64\n",
      " 71  secondary_cleaner.state.floatbank2_b_air            16705 non-null  float64\n",
      " 72  secondary_cleaner.state.floatbank2_b_level          16748 non-null  float64\n",
      " 73  secondary_cleaner.state.floatbank3_a_air            16763 non-null  float64\n",
      " 74  secondary_cleaner.state.floatbank3_a_level          16747 non-null  float64\n",
      " 75  secondary_cleaner.state.floatbank3_b_air            16752 non-null  float64\n",
      " 76  secondary_cleaner.state.floatbank3_b_level          16750 non-null  float64\n",
      " 77  secondary_cleaner.state.floatbank4_a_air            16731 non-null  float64\n",
      " 78  secondary_cleaner.state.floatbank4_a_level          16747 non-null  float64\n",
      " 79  secondary_cleaner.state.floatbank4_b_air            16768 non-null  float64\n",
      " 80  secondary_cleaner.state.floatbank4_b_level          16767 non-null  float64\n",
      " 81  secondary_cleaner.state.floatbank5_a_air            16775 non-null  float64\n",
      " 82  secondary_cleaner.state.floatbank5_a_level          16775 non-null  float64\n",
      " 83  secondary_cleaner.state.floatbank5_b_air            16775 non-null  float64\n",
      " 84  secondary_cleaner.state.floatbank5_b_level          16776 non-null  float64\n",
      " 85  secondary_cleaner.state.floatbank6_a_air            16757 non-null  float64\n",
      " 86  secondary_cleaner.state.floatbank6_a_level          16775 non-null  float64\n",
      "dtypes: float64(86), object(1)\n",
      "memory usage: 11.2+ MB\n"
     ]
    }
   ],
   "source": [
    "train.info()"
   ]
  },
  {
   "cell_type": "code",
   "execution_count": 7,
   "id": "995f562d",
   "metadata": {},
   "outputs": [
    {
     "name": "stdout",
     "output_type": "stream",
     "text": [
      "<class 'pandas.core.frame.DataFrame'>\n",
      "RangeIndex: 5856 entries, 0 to 5855\n",
      "Data columns (total 53 columns):\n",
      " #   Column                                      Non-Null Count  Dtype  \n",
      "---  ------                                      --------------  -----  \n",
      " 0   date                                        5856 non-null   object \n",
      " 1   primary_cleaner.input.sulfate               5554 non-null   float64\n",
      " 2   primary_cleaner.input.depressant            5572 non-null   float64\n",
      " 3   primary_cleaner.input.feed_size             5856 non-null   float64\n",
      " 4   primary_cleaner.input.xanthate              5690 non-null   float64\n",
      " 5   primary_cleaner.state.floatbank8_a_air      5840 non-null   float64\n",
      " 6   primary_cleaner.state.floatbank8_a_level    5840 non-null   float64\n",
      " 7   primary_cleaner.state.floatbank8_b_air      5840 non-null   float64\n",
      " 8   primary_cleaner.state.floatbank8_b_level    5840 non-null   float64\n",
      " 9   primary_cleaner.state.floatbank8_c_air      5840 non-null   float64\n",
      " 10  primary_cleaner.state.floatbank8_c_level    5840 non-null   float64\n",
      " 11  primary_cleaner.state.floatbank8_d_air      5840 non-null   float64\n",
      " 12  primary_cleaner.state.floatbank8_d_level    5840 non-null   float64\n",
      " 13  rougher.input.feed_ag                       5840 non-null   float64\n",
      " 14  rougher.input.feed_pb                       5840 non-null   float64\n",
      " 15  rougher.input.feed_rate                     5816 non-null   float64\n",
      " 16  rougher.input.feed_size                     5834 non-null   float64\n",
      " 17  rougher.input.feed_sol                      5789 non-null   float64\n",
      " 18  rougher.input.feed_au                       5840 non-null   float64\n",
      " 19  rougher.input.floatbank10_sulfate           5599 non-null   float64\n",
      " 20  rougher.input.floatbank10_xanthate          5733 non-null   float64\n",
      " 21  rougher.input.floatbank11_sulfate           5801 non-null   float64\n",
      " 22  rougher.input.floatbank11_xanthate          5503 non-null   float64\n",
      " 23  rougher.state.floatbank10_a_air             5839 non-null   float64\n",
      " 24  rougher.state.floatbank10_a_level           5840 non-null   float64\n",
      " 25  rougher.state.floatbank10_b_air             5839 non-null   float64\n",
      " 26  rougher.state.floatbank10_b_level           5840 non-null   float64\n",
      " 27  rougher.state.floatbank10_c_air             5839 non-null   float64\n",
      " 28  rougher.state.floatbank10_c_level           5840 non-null   float64\n",
      " 29  rougher.state.floatbank10_d_air             5839 non-null   float64\n",
      " 30  rougher.state.floatbank10_d_level           5840 non-null   float64\n",
      " 31  rougher.state.floatbank10_e_air             5839 non-null   float64\n",
      " 32  rougher.state.floatbank10_e_level           5840 non-null   float64\n",
      " 33  rougher.state.floatbank10_f_air             5839 non-null   float64\n",
      " 34  rougher.state.floatbank10_f_level           5840 non-null   float64\n",
      " 35  secondary_cleaner.state.floatbank2_a_air    5836 non-null   float64\n",
      " 36  secondary_cleaner.state.floatbank2_a_level  5840 non-null   float64\n",
      " 37  secondary_cleaner.state.floatbank2_b_air    5833 non-null   float64\n",
      " 38  secondary_cleaner.state.floatbank2_b_level  5840 non-null   float64\n",
      " 39  secondary_cleaner.state.floatbank3_a_air    5822 non-null   float64\n",
      " 40  secondary_cleaner.state.floatbank3_a_level  5840 non-null   float64\n",
      " 41  secondary_cleaner.state.floatbank3_b_air    5840 non-null   float64\n",
      " 42  secondary_cleaner.state.floatbank3_b_level  5840 non-null   float64\n",
      " 43  secondary_cleaner.state.floatbank4_a_air    5840 non-null   float64\n",
      " 44  secondary_cleaner.state.floatbank4_a_level  5840 non-null   float64\n",
      " 45  secondary_cleaner.state.floatbank4_b_air    5840 non-null   float64\n",
      " 46  secondary_cleaner.state.floatbank4_b_level  5840 non-null   float64\n",
      " 47  secondary_cleaner.state.floatbank5_a_air    5840 non-null   float64\n",
      " 48  secondary_cleaner.state.floatbank5_a_level  5840 non-null   float64\n",
      " 49  secondary_cleaner.state.floatbank5_b_air    5840 non-null   float64\n",
      " 50  secondary_cleaner.state.floatbank5_b_level  5840 non-null   float64\n",
      " 51  secondary_cleaner.state.floatbank6_a_air    5840 non-null   float64\n",
      " 52  secondary_cleaner.state.floatbank6_a_level  5840 non-null   float64\n",
      "dtypes: float64(52), object(1)\n",
      "memory usage: 2.4+ MB\n"
     ]
    }
   ],
   "source": [
    "test.info()"
   ]
  },
  {
   "cell_type": "code",
   "execution_count": 8,
   "id": "6fcc4003",
   "metadata": {},
   "outputs": [
    {
     "name": "stdout",
     "output_type": "stream",
     "text": [
      "<class 'pandas.core.frame.DataFrame'>\n",
      "RangeIndex: 22716 entries, 0 to 22715\n",
      "Data columns (total 87 columns):\n",
      " #   Column                                              Non-Null Count  Dtype  \n",
      "---  ------                                              --------------  -----  \n",
      " 0   date                                                22716 non-null  object \n",
      " 1   final.output.concentrate_ag                         22627 non-null  float64\n",
      " 2   final.output.concentrate_pb                         22629 non-null  float64\n",
      " 3   final.output.concentrate_sol                        22331 non-null  float64\n",
      " 4   final.output.concentrate_au                         22630 non-null  float64\n",
      " 5   final.output.recovery                               20753 non-null  float64\n",
      " 6   final.output.tail_ag                                22633 non-null  float64\n",
      " 7   final.output.tail_pb                                22516 non-null  float64\n",
      " 8   final.output.tail_sol                               22445 non-null  float64\n",
      " 9   final.output.tail_au                                22635 non-null  float64\n",
      " 10  primary_cleaner.input.sulfate                       21107 non-null  float64\n",
      " 11  primary_cleaner.input.depressant                    21170 non-null  float64\n",
      " 12  primary_cleaner.input.feed_size                     22716 non-null  float64\n",
      " 13  primary_cleaner.input.xanthate                      21565 non-null  float64\n",
      " 14  primary_cleaner.output.concentrate_ag               22618 non-null  float64\n",
      " 15  primary_cleaner.output.concentrate_pb               22268 non-null  float64\n",
      " 16  primary_cleaner.output.concentrate_sol              21918 non-null  float64\n",
      " 17  primary_cleaner.output.concentrate_au               22618 non-null  float64\n",
      " 18  primary_cleaner.output.tail_ag                      22614 non-null  float64\n",
      " 19  primary_cleaner.output.tail_pb                      22594 non-null  float64\n",
      " 20  primary_cleaner.output.tail_sol                     22365 non-null  float64\n",
      " 21  primary_cleaner.output.tail_au                      22617 non-null  float64\n",
      " 22  primary_cleaner.state.floatbank8_a_air              22660 non-null  float64\n",
      " 23  primary_cleaner.state.floatbank8_a_level            22667 non-null  float64\n",
      " 24  primary_cleaner.state.floatbank8_b_air              22660 non-null  float64\n",
      " 25  primary_cleaner.state.floatbank8_b_level            22673 non-null  float64\n",
      " 26  primary_cleaner.state.floatbank8_c_air              22662 non-null  float64\n",
      " 27  primary_cleaner.state.floatbank8_c_level            22673 non-null  float64\n",
      " 28  primary_cleaner.state.floatbank8_d_air              22661 non-null  float64\n",
      " 29  primary_cleaner.state.floatbank8_d_level            22673 non-null  float64\n",
      " 30  rougher.calculation.sulfate_to_au_concentrate       22672 non-null  float64\n",
      " 31  rougher.calculation.floatbank10_sulfate_to_au_feed  22672 non-null  float64\n",
      " 32  rougher.calculation.floatbank11_sulfate_to_au_feed  22672 non-null  float64\n",
      " 33  rougher.calculation.au_pb_ratio                     21089 non-null  float64\n",
      " 34  rougher.input.feed_ag                               22618 non-null  float64\n",
      " 35  rougher.input.feed_pb                               22472 non-null  float64\n",
      " 36  rougher.input.feed_rate                             22163 non-null  float64\n",
      " 37  rougher.input.feed_size                             22277 non-null  float64\n",
      " 38  rougher.input.feed_sol                              22357 non-null  float64\n",
      " 39  rougher.input.feed_au                               22617 non-null  float64\n",
      " 40  rougher.input.floatbank10_sulfate                   21415 non-null  float64\n",
      " 41  rougher.input.floatbank10_xanthate                  22247 non-null  float64\n",
      " 42  rougher.input.floatbank11_sulfate                   22038 non-null  float64\n",
      " 43  rougher.input.floatbank11_xanthate                  20459 non-null  float64\n",
      " 44  rougher.output.concentrate_ag                       22618 non-null  float64\n",
      " 45  rougher.output.concentrate_pb                       22618 non-null  float64\n",
      " 46  rougher.output.concentrate_sol                      22526 non-null  float64\n",
      " 47  rougher.output.concentrate_au                       22618 non-null  float64\n",
      " 48  rougher.output.recovery                             19597 non-null  float64\n",
      " 49  rougher.output.tail_ag                              19979 non-null  float64\n",
      " 50  rougher.output.tail_pb                              22618 non-null  float64\n",
      " 51  rougher.output.tail_sol                             19980 non-null  float64\n",
      " 52  rougher.output.tail_au                              19980 non-null  float64\n",
      " 53  rougher.state.floatbank10_a_air                     22646 non-null  float64\n",
      " 54  rougher.state.floatbank10_a_level                   22647 non-null  float64\n",
      " 55  rougher.state.floatbank10_b_air                     22646 non-null  float64\n",
      " 56  rougher.state.floatbank10_b_level                   22647 non-null  float64\n",
      " 57  rougher.state.floatbank10_c_air                     22646 non-null  float64\n",
      " 58  rougher.state.floatbank10_c_level                   22654 non-null  float64\n",
      " 59  rougher.state.floatbank10_d_air                     22641 non-null  float64\n",
      " 60  rougher.state.floatbank10_d_level                   22649 non-null  float64\n",
      " 61  rougher.state.floatbank10_e_air                     22096 non-null  float64\n",
      " 62  rougher.state.floatbank10_e_level                   22649 non-null  float64\n",
      " 63  rougher.state.floatbank10_f_air                     22641 non-null  float64\n",
      " 64  rougher.state.floatbank10_f_level                   22642 non-null  float64\n",
      " 65  secondary_cleaner.output.tail_ag                    22616 non-null  float64\n",
      " 66  secondary_cleaner.output.tail_pb                    22600 non-null  float64\n",
      " 67  secondary_cleaner.output.tail_sol                   20501 non-null  float64\n",
      " 68  secondary_cleaner.output.tail_au                    22618 non-null  float64\n",
      " 69  secondary_cleaner.state.floatbank2_a_air            22333 non-null  float64\n",
      " 70  secondary_cleaner.state.floatbank2_a_level          22591 non-null  float64\n",
      " 71  secondary_cleaner.state.floatbank2_b_air            22538 non-null  float64\n",
      " 72  secondary_cleaner.state.floatbank2_b_level          22588 non-null  float64\n",
      " 73  secondary_cleaner.state.floatbank3_a_air            22585 non-null  float64\n",
      " 74  secondary_cleaner.state.floatbank3_a_level          22587 non-null  float64\n",
      " 75  secondary_cleaner.state.floatbank3_b_air            22592 non-null  float64\n",
      " 76  secondary_cleaner.state.floatbank3_b_level          22590 non-null  float64\n",
      " 77  secondary_cleaner.state.floatbank4_a_air            22571 non-null  float64\n",
      " 78  secondary_cleaner.state.floatbank4_a_level          22587 non-null  float64\n",
      " 79  secondary_cleaner.state.floatbank4_b_air            22608 non-null  float64\n",
      " 80  secondary_cleaner.state.floatbank4_b_level          22607 non-null  float64\n",
      " 81  secondary_cleaner.state.floatbank5_a_air            22615 non-null  float64\n",
      " 82  secondary_cleaner.state.floatbank5_a_level          22615 non-null  float64\n",
      " 83  secondary_cleaner.state.floatbank5_b_air            22615 non-null  float64\n",
      " 84  secondary_cleaner.state.floatbank5_b_level          22616 non-null  float64\n",
      " 85  secondary_cleaner.state.floatbank6_a_air            22597 non-null  float64\n",
      " 86  secondary_cleaner.state.floatbank6_a_level          22615 non-null  float64\n",
      "dtypes: float64(86), object(1)\n",
      "memory usage: 15.1+ MB\n"
     ]
    }
   ],
   "source": [
    "full.info()"
   ]
  },
  {
   "cell_type": "markdown",
   "id": "f3a349b7",
   "metadata": {},
   "source": [
    "1.2. Check that recovery is calculated correctly. Using the training set, calculate recovery for the rougher.output.recovery feature. Find the MAE between your calculations and the feature values."
   ]
  },
  {
   "cell_type": "markdown",
   "id": "22a3e481",
   "metadata": {},
   "source": [
    "# Recovery calculation\n",
    "\n",
    "Recovery = ((C x (F-T)) /(F x (C-T))) x 100\n",
    "\n",
    "where:\n",
    " \n",
    " \n",
    " - C — share of gold in the concentrate right after flotation (for finding the rougher concentrate recovery)/after purification (for finding the final concentrate recovery)\n",
    "- F — share of gold in the feed before flotation (for finding the rougher concentrate recovery)/in the concentrate right after flotation (for finding the final concentrate recovery)\n",
    "- T — share of gold in the rougher tails right after flotation (for finding the rougher concentrate recovery)/after purification (for finding the final concentrate recovery)\n",
    "\n",
    "."
   ]
  },
  {
   "cell_type": "code",
   "execution_count": 9,
   "id": "b60c6431",
   "metadata": {},
   "outputs": [],
   "source": [
    "C, F, T = train['rougher.output.concentrate_au'],train[ 'rougher.input.feed_au'], train['rougher.output.tail_au']"
   ]
  },
  {
   "cell_type": "code",
   "execution_count": 10,
   "id": "3a13d7e5",
   "metadata": {},
   "outputs": [],
   "source": [
    "train['recovery'] =  (100* ((C*(F-T)) / (F*(C-T)))).round(6)"
   ]
  },
  {
   "cell_type": "code",
   "execution_count": 11,
   "id": "120b1ed6",
   "metadata": {},
   "outputs": [
    {
     "data": {
      "text/html": [
       "<div>\n",
       "<style scoped>\n",
       "    .dataframe tbody tr th:only-of-type {\n",
       "        vertical-align: middle;\n",
       "    }\n",
       "\n",
       "    .dataframe tbody tr th {\n",
       "        vertical-align: top;\n",
       "    }\n",
       "\n",
       "    .dataframe thead th {\n",
       "        text-align: right;\n",
       "    }\n",
       "</style>\n",
       "<table border=\"1\" class=\"dataframe\">\n",
       "  <thead>\n",
       "    <tr style=\"text-align: right;\">\n",
       "      <th></th>\n",
       "      <th>recovery</th>\n",
       "      <th>rougher.output.recovery</th>\n",
       "    </tr>\n",
       "  </thead>\n",
       "  <tbody>\n",
       "    <tr>\n",
       "      <th>0</th>\n",
       "      <td>87.107763</td>\n",
       "      <td>87.107763</td>\n",
       "    </tr>\n",
       "    <tr>\n",
       "      <th>1</th>\n",
       "      <td>86.843261</td>\n",
       "      <td>86.843261</td>\n",
       "    </tr>\n",
       "    <tr>\n",
       "      <th>2</th>\n",
       "      <td>86.842308</td>\n",
       "      <td>86.842308</td>\n",
       "    </tr>\n",
       "    <tr>\n",
       "      <th>3</th>\n",
       "      <td>87.226430</td>\n",
       "      <td>87.226430</td>\n",
       "    </tr>\n",
       "    <tr>\n",
       "      <th>4</th>\n",
       "      <td>86.688794</td>\n",
       "      <td>86.688794</td>\n",
       "    </tr>\n",
       "    <tr>\n",
       "      <th>...</th>\n",
       "      <td>...</td>\n",
       "      <td>...</td>\n",
       "    </tr>\n",
       "    <tr>\n",
       "      <th>16855</th>\n",
       "      <td>89.574376</td>\n",
       "      <td>89.574376</td>\n",
       "    </tr>\n",
       "    <tr>\n",
       "      <th>16856</th>\n",
       "      <td>87.724007</td>\n",
       "      <td>87.724007</td>\n",
       "    </tr>\n",
       "    <tr>\n",
       "      <th>16857</th>\n",
       "      <td>88.890579</td>\n",
       "      <td>88.890579</td>\n",
       "    </tr>\n",
       "    <tr>\n",
       "      <th>16858</th>\n",
       "      <td>89.858126</td>\n",
       "      <td>89.858126</td>\n",
       "    </tr>\n",
       "    <tr>\n",
       "      <th>16859</th>\n",
       "      <td>89.514960</td>\n",
       "      <td>89.514960</td>\n",
       "    </tr>\n",
       "  </tbody>\n",
       "</table>\n",
       "<p>16860 rows × 2 columns</p>\n",
       "</div>"
      ],
      "text/plain": [
       "        recovery  rougher.output.recovery\n",
       "0      87.107763                87.107763\n",
       "1      86.843261                86.843261\n",
       "2      86.842308                86.842308\n",
       "3      87.226430                87.226430\n",
       "4      86.688794                86.688794\n",
       "...          ...                      ...\n",
       "16855  89.574376                89.574376\n",
       "16856  87.724007                87.724007\n",
       "16857  88.890579                88.890579\n",
       "16858  89.858126                89.858126\n",
       "16859  89.514960                89.514960\n",
       "\n",
       "[16860 rows x 2 columns]"
      ]
     },
     "execution_count": 11,
     "metadata": {},
     "output_type": "execute_result"
    }
   ],
   "source": [
    "train[['recovery','rougher.output.recovery']]"
   ]
  },
  {
   "cell_type": "code",
   "execution_count": 12,
   "id": "cb833ec9",
   "metadata": {},
   "outputs": [
    {
     "data": {
      "text/html": [
       "<div>\n",
       "<style scoped>\n",
       "    .dataframe tbody tr th:only-of-type {\n",
       "        vertical-align: middle;\n",
       "    }\n",
       "\n",
       "    .dataframe tbody tr th {\n",
       "        vertical-align: top;\n",
       "    }\n",
       "\n",
       "    .dataframe thead th {\n",
       "        text-align: right;\n",
       "    }\n",
       "</style>\n",
       "<table border=\"1\" class=\"dataframe\">\n",
       "  <thead>\n",
       "    <tr style=\"text-align: right;\">\n",
       "      <th></th>\n",
       "      <th>index</th>\n",
       "      <th>percent_missing</th>\n",
       "    </tr>\n",
       "  </thead>\n",
       "  <tbody>\n",
       "    <tr>\n",
       "      <th>5</th>\n",
       "      <td>final.output.recovery</td>\n",
       "      <td>9.021352</td>\n",
       "    </tr>\n",
       "    <tr>\n",
       "      <th>10</th>\n",
       "      <td>primary_cleaner.input.sulfate</td>\n",
       "      <td>7.752076</td>\n",
       "    </tr>\n",
       "    <tr>\n",
       "      <th>11</th>\n",
       "      <td>primary_cleaner.input.depressant</td>\n",
       "      <td>7.485172</td>\n",
       "    </tr>\n",
       "    <tr>\n",
       "      <th>13</th>\n",
       "      <td>primary_cleaner.input.xanthate</td>\n",
       "      <td>5.842230</td>\n",
       "    </tr>\n",
       "    <tr>\n",
       "      <th>33</th>\n",
       "      <td>rougher.calculation.au_pb_ratio</td>\n",
       "      <td>7.366548</td>\n",
       "    </tr>\n",
       "    <tr>\n",
       "      <th>40</th>\n",
       "      <td>rougher.input.floatbank10_sulfate</td>\n",
       "      <td>6.192171</td>\n",
       "    </tr>\n",
       "    <tr>\n",
       "      <th>43</th>\n",
       "      <td>rougher.input.floatbank11_xanthate</td>\n",
       "      <td>11.293001</td>\n",
       "    </tr>\n",
       "    <tr>\n",
       "      <th>48</th>\n",
       "      <td>rougher.output.recovery</td>\n",
       "      <td>15.260973</td>\n",
       "    </tr>\n",
       "    <tr>\n",
       "      <th>49</th>\n",
       "      <td>rougher.output.tail_ag</td>\n",
       "      <td>13.345196</td>\n",
       "    </tr>\n",
       "    <tr>\n",
       "      <th>51</th>\n",
       "      <td>rougher.output.tail_sol</td>\n",
       "      <td>13.339265</td>\n",
       "    </tr>\n",
       "    <tr>\n",
       "      <th>52</th>\n",
       "      <td>rougher.output.tail_au</td>\n",
       "      <td>13.339265</td>\n",
       "    </tr>\n",
       "    <tr>\n",
       "      <th>67</th>\n",
       "      <td>secondary_cleaner.output.tail_sol</td>\n",
       "      <td>11.779359</td>\n",
       "    </tr>\n",
       "    <tr>\n",
       "      <th>87</th>\n",
       "      <td>recovery</td>\n",
       "      <td>13.540925</td>\n",
       "    </tr>\n",
       "  </tbody>\n",
       "</table>\n",
       "</div>"
      ],
      "text/plain": [
       "                                 index  percent_missing\n",
       "5                final.output.recovery         9.021352\n",
       "10       primary_cleaner.input.sulfate         7.752076\n",
       "11    primary_cleaner.input.depressant         7.485172\n",
       "13      primary_cleaner.input.xanthate         5.842230\n",
       "33     rougher.calculation.au_pb_ratio         7.366548\n",
       "40   rougher.input.floatbank10_sulfate         6.192171\n",
       "43  rougher.input.floatbank11_xanthate        11.293001\n",
       "48             rougher.output.recovery        15.260973\n",
       "49              rougher.output.tail_ag        13.345196\n",
       "51             rougher.output.tail_sol        13.339265\n",
       "52              rougher.output.tail_au        13.339265\n",
       "67   secondary_cleaner.output.tail_sol        11.779359\n",
       "87                            recovery        13.540925"
      ]
     },
     "execution_count": 12,
     "metadata": {},
     "output_type": "execute_result"
    }
   ],
   "source": [
    "percent_missing = train.isnull().sum() * 100 / len(train)\n",
    "missing_value_df = pd.DataFrame({\n",
    "                                 'percent_missing': percent_missing}).reset_index()\n",
    "missing_cols = missing_value_df[missing_value_df['percent_missing'] >= 5]\n",
    "missing_cols"
   ]
  },
  {
   "cell_type": "code",
   "execution_count": 13,
   "id": "3a8b5b30",
   "metadata": {},
   "outputs": [
    {
     "data": {
      "text/plain": [
       "2.448245309222317e-07"
      ]
     },
     "execution_count": 13,
     "metadata": {},
     "output_type": "execute_result"
    }
   ],
   "source": [
    "mae = (train['rougher.output.recovery']-train['recovery']).abs().mean()\n",
    "mae"
   ]
  },
  {
   "cell_type": "markdown",
   "id": "6349e6f4",
   "metadata": {},
   "source": [
    "We can see that our recovery calculation was calculated correctly, We had a some missing values so mean absolute error was calcualted manually . We can see that we got 2.44 that mean that the predicted values will be off 2.44 which really good."
   ]
  },
  {
   "cell_type": "markdown",
   "id": "0cf76241",
   "metadata": {},
   "source": [
    "1.3. Analyze the features not available in the test set. What are these parameters? What is their type?"
   ]
  },
  {
   "cell_type": "code",
   "execution_count": 14,
   "id": "0151c2a3",
   "metadata": {},
   "outputs": [
    {
     "name": "stdout",
     "output_type": "stream",
     "text": [
      "We can see we have 35 missing columns\n"
     ]
    }
   ],
   "source": [
    "# using  np.setdiff1d() which takes the difference from two arrays  \n",
    "L = np.setdiff1d(train.columns, test.columns).tolist()\n",
    "print(f'We can see we have {len(L)} missing columns')"
   ]
  },
  {
   "cell_type": "code",
   "execution_count": 15,
   "id": "e5e9dfa2",
   "metadata": {},
   "outputs": [
    {
     "data": {
      "text/plain": [
       "final.output.concentrate_ag                           float64\n",
       "final.output.concentrate_au                           float64\n",
       "final.output.concentrate_pb                           float64\n",
       "final.output.concentrate_sol                          float64\n",
       "final.output.recovery                                 float64\n",
       "final.output.tail_ag                                  float64\n",
       "final.output.tail_au                                  float64\n",
       "final.output.tail_pb                                  float64\n",
       "final.output.tail_sol                                 float64\n",
       "primary_cleaner.output.concentrate_ag                 float64\n",
       "primary_cleaner.output.concentrate_au                 float64\n",
       "primary_cleaner.output.concentrate_pb                 float64\n",
       "primary_cleaner.output.concentrate_sol                float64\n",
       "primary_cleaner.output.tail_ag                        float64\n",
       "primary_cleaner.output.tail_au                        float64\n",
       "primary_cleaner.output.tail_pb                        float64\n",
       "primary_cleaner.output.tail_sol                       float64\n",
       "recovery                                              float64\n",
       "rougher.calculation.au_pb_ratio                       float64\n",
       "rougher.calculation.floatbank10_sulfate_to_au_feed    float64\n",
       "rougher.calculation.floatbank11_sulfate_to_au_feed    float64\n",
       "rougher.calculation.sulfate_to_au_concentrate         float64\n",
       "rougher.output.concentrate_ag                         float64\n",
       "rougher.output.concentrate_au                         float64\n",
       "rougher.output.concentrate_pb                         float64\n",
       "rougher.output.concentrate_sol                        float64\n",
       "rougher.output.recovery                               float64\n",
       "rougher.output.tail_ag                                float64\n",
       "rougher.output.tail_au                                float64\n",
       "rougher.output.tail_pb                                float64\n",
       "rougher.output.tail_sol                               float64\n",
       "secondary_cleaner.output.tail_ag                      float64\n",
       "secondary_cleaner.output.tail_au                      float64\n",
       "secondary_cleaner.output.tail_pb                      float64\n",
       "secondary_cleaner.output.tail_sol                     float64\n",
       "dtype: object"
      ]
     },
     "execution_count": 15,
     "metadata": {},
     "output_type": "execute_result"
    }
   ],
   "source": [
    "train[L].dtypes"
   ]
  },
  {
   "cell_type": "markdown",
   "id": "b5406cc0",
   "metadata": {},
   "source": [
    "The features missing in the test set are either outputs of the process, or calculations based on those outputs and thus can't be used in our models."
   ]
  },
  {
   "cell_type": "markdown",
   "id": "f1dae3e0",
   "metadata": {},
   "source": [
    "# Data preprocessing"
   ]
  },
  {
   "cell_type": "code",
   "execution_count": 16,
   "id": "98943e1f",
   "metadata": {},
   "outputs": [],
   "source": [
    "#dropping the Recovery column we named earlier because the data was correct \n",
    "train.drop(columns = 'recovery',inplace = True)"
   ]
  },
  {
   "cell_type": "code",
   "execution_count": 17,
   "id": "2b1feae4",
   "metadata": {},
   "outputs": [
    {
     "data": {
      "text/html": [
       "<div>\n",
       "<style scoped>\n",
       "    .dataframe tbody tr th:only-of-type {\n",
       "        vertical-align: middle;\n",
       "    }\n",
       "\n",
       "    .dataframe tbody tr th {\n",
       "        vertical-align: top;\n",
       "    }\n",
       "\n",
       "    .dataframe thead th {\n",
       "        text-align: right;\n",
       "    }\n",
       "</style>\n",
       "<table border=\"1\" class=\"dataframe\">\n",
       "  <thead>\n",
       "    <tr style=\"text-align: right;\">\n",
       "      <th></th>\n",
       "      <th>date</th>\n",
       "      <th>final.output.concentrate_ag</th>\n",
       "      <th>final.output.concentrate_pb</th>\n",
       "      <th>final.output.concentrate_sol</th>\n",
       "      <th>final.output.concentrate_au</th>\n",
       "      <th>final.output.recovery</th>\n",
       "      <th>final.output.tail_ag</th>\n",
       "      <th>final.output.tail_pb</th>\n",
       "      <th>final.output.tail_sol</th>\n",
       "      <th>final.output.tail_au</th>\n",
       "      <th>...</th>\n",
       "      <th>secondary_cleaner.state.floatbank4_a_air</th>\n",
       "      <th>secondary_cleaner.state.floatbank4_a_level</th>\n",
       "      <th>secondary_cleaner.state.floatbank4_b_air</th>\n",
       "      <th>secondary_cleaner.state.floatbank4_b_level</th>\n",
       "      <th>secondary_cleaner.state.floatbank5_a_air</th>\n",
       "      <th>secondary_cleaner.state.floatbank5_a_level</th>\n",
       "      <th>secondary_cleaner.state.floatbank5_b_air</th>\n",
       "      <th>secondary_cleaner.state.floatbank5_b_level</th>\n",
       "      <th>secondary_cleaner.state.floatbank6_a_air</th>\n",
       "      <th>secondary_cleaner.state.floatbank6_a_level</th>\n",
       "    </tr>\n",
       "  </thead>\n",
       "  <tbody>\n",
       "  </tbody>\n",
       "</table>\n",
       "<p>0 rows × 87 columns</p>\n",
       "</div>"
      ],
      "text/plain": [
       "Empty DataFrame\n",
       "Columns: [date, final.output.concentrate_ag, final.output.concentrate_pb, final.output.concentrate_sol, final.output.concentrate_au, final.output.recovery, final.output.tail_ag, final.output.tail_pb, final.output.tail_sol, final.output.tail_au, primary_cleaner.input.sulfate, primary_cleaner.input.depressant, primary_cleaner.input.feed_size, primary_cleaner.input.xanthate, primary_cleaner.output.concentrate_ag, primary_cleaner.output.concentrate_pb, primary_cleaner.output.concentrate_sol, primary_cleaner.output.concentrate_au, primary_cleaner.output.tail_ag, primary_cleaner.output.tail_pb, primary_cleaner.output.tail_sol, primary_cleaner.output.tail_au, primary_cleaner.state.floatbank8_a_air, primary_cleaner.state.floatbank8_a_level, primary_cleaner.state.floatbank8_b_air, primary_cleaner.state.floatbank8_b_level, primary_cleaner.state.floatbank8_c_air, primary_cleaner.state.floatbank8_c_level, primary_cleaner.state.floatbank8_d_air, primary_cleaner.state.floatbank8_d_level, rougher.calculation.sulfate_to_au_concentrate, rougher.calculation.floatbank10_sulfate_to_au_feed, rougher.calculation.floatbank11_sulfate_to_au_feed, rougher.calculation.au_pb_ratio, rougher.input.feed_ag, rougher.input.feed_pb, rougher.input.feed_rate, rougher.input.feed_size, rougher.input.feed_sol, rougher.input.feed_au, rougher.input.floatbank10_sulfate, rougher.input.floatbank10_xanthate, rougher.input.floatbank11_sulfate, rougher.input.floatbank11_xanthate, rougher.output.concentrate_ag, rougher.output.concentrate_pb, rougher.output.concentrate_sol, rougher.output.concentrate_au, rougher.output.recovery, rougher.output.tail_ag, rougher.output.tail_pb, rougher.output.tail_sol, rougher.output.tail_au, rougher.state.floatbank10_a_air, rougher.state.floatbank10_a_level, rougher.state.floatbank10_b_air, rougher.state.floatbank10_b_level, rougher.state.floatbank10_c_air, rougher.state.floatbank10_c_level, rougher.state.floatbank10_d_air, rougher.state.floatbank10_d_level, rougher.state.floatbank10_e_air, rougher.state.floatbank10_e_level, rougher.state.floatbank10_f_air, rougher.state.floatbank10_f_level, secondary_cleaner.output.tail_ag, secondary_cleaner.output.tail_pb, secondary_cleaner.output.tail_sol, secondary_cleaner.output.tail_au, secondary_cleaner.state.floatbank2_a_air, secondary_cleaner.state.floatbank2_a_level, secondary_cleaner.state.floatbank2_b_air, secondary_cleaner.state.floatbank2_b_level, secondary_cleaner.state.floatbank3_a_air, secondary_cleaner.state.floatbank3_a_level, secondary_cleaner.state.floatbank3_b_air, secondary_cleaner.state.floatbank3_b_level, secondary_cleaner.state.floatbank4_a_air, secondary_cleaner.state.floatbank4_a_level, secondary_cleaner.state.floatbank4_b_air, secondary_cleaner.state.floatbank4_b_level, secondary_cleaner.state.floatbank5_a_air, secondary_cleaner.state.floatbank5_a_level, secondary_cleaner.state.floatbank5_b_air, secondary_cleaner.state.floatbank5_b_level, secondary_cleaner.state.floatbank6_a_air, secondary_cleaner.state.floatbank6_a_level]\n",
       "Index: []\n",
       "\n",
       "[0 rows x 87 columns]"
      ]
     },
     "execution_count": 17,
     "metadata": {},
     "output_type": "execute_result"
    }
   ],
   "source": [
    "#Checking for duplicates in the train dataset\n",
    "train[train.duplicated()]"
   ]
  },
  {
   "cell_type": "code",
   "execution_count": 18,
   "id": "2ed37fc1",
   "metadata": {},
   "outputs": [
    {
     "data": {
      "text/html": [
       "<div>\n",
       "<style scoped>\n",
       "    .dataframe tbody tr th:only-of-type {\n",
       "        vertical-align: middle;\n",
       "    }\n",
       "\n",
       "    .dataframe tbody tr th {\n",
       "        vertical-align: top;\n",
       "    }\n",
       "\n",
       "    .dataframe thead th {\n",
       "        text-align: right;\n",
       "    }\n",
       "</style>\n",
       "<table border=\"1\" class=\"dataframe\">\n",
       "  <thead>\n",
       "    <tr style=\"text-align: right;\">\n",
       "      <th></th>\n",
       "      <th>date</th>\n",
       "      <th>primary_cleaner.input.sulfate</th>\n",
       "      <th>primary_cleaner.input.depressant</th>\n",
       "      <th>primary_cleaner.input.feed_size</th>\n",
       "      <th>primary_cleaner.input.xanthate</th>\n",
       "      <th>primary_cleaner.state.floatbank8_a_air</th>\n",
       "      <th>primary_cleaner.state.floatbank8_a_level</th>\n",
       "      <th>primary_cleaner.state.floatbank8_b_air</th>\n",
       "      <th>primary_cleaner.state.floatbank8_b_level</th>\n",
       "      <th>primary_cleaner.state.floatbank8_c_air</th>\n",
       "      <th>...</th>\n",
       "      <th>secondary_cleaner.state.floatbank4_a_air</th>\n",
       "      <th>secondary_cleaner.state.floatbank4_a_level</th>\n",
       "      <th>secondary_cleaner.state.floatbank4_b_air</th>\n",
       "      <th>secondary_cleaner.state.floatbank4_b_level</th>\n",
       "      <th>secondary_cleaner.state.floatbank5_a_air</th>\n",
       "      <th>secondary_cleaner.state.floatbank5_a_level</th>\n",
       "      <th>secondary_cleaner.state.floatbank5_b_air</th>\n",
       "      <th>secondary_cleaner.state.floatbank5_b_level</th>\n",
       "      <th>secondary_cleaner.state.floatbank6_a_air</th>\n",
       "      <th>secondary_cleaner.state.floatbank6_a_level</th>\n",
       "    </tr>\n",
       "  </thead>\n",
       "  <tbody>\n",
       "  </tbody>\n",
       "</table>\n",
       "<p>0 rows × 53 columns</p>\n",
       "</div>"
      ],
      "text/plain": [
       "Empty DataFrame\n",
       "Columns: [date, primary_cleaner.input.sulfate, primary_cleaner.input.depressant, primary_cleaner.input.feed_size, primary_cleaner.input.xanthate, primary_cleaner.state.floatbank8_a_air, primary_cleaner.state.floatbank8_a_level, primary_cleaner.state.floatbank8_b_air, primary_cleaner.state.floatbank8_b_level, primary_cleaner.state.floatbank8_c_air, primary_cleaner.state.floatbank8_c_level, primary_cleaner.state.floatbank8_d_air, primary_cleaner.state.floatbank8_d_level, rougher.input.feed_ag, rougher.input.feed_pb, rougher.input.feed_rate, rougher.input.feed_size, rougher.input.feed_sol, rougher.input.feed_au, rougher.input.floatbank10_sulfate, rougher.input.floatbank10_xanthate, rougher.input.floatbank11_sulfate, rougher.input.floatbank11_xanthate, rougher.state.floatbank10_a_air, rougher.state.floatbank10_a_level, rougher.state.floatbank10_b_air, rougher.state.floatbank10_b_level, rougher.state.floatbank10_c_air, rougher.state.floatbank10_c_level, rougher.state.floatbank10_d_air, rougher.state.floatbank10_d_level, rougher.state.floatbank10_e_air, rougher.state.floatbank10_e_level, rougher.state.floatbank10_f_air, rougher.state.floatbank10_f_level, secondary_cleaner.state.floatbank2_a_air, secondary_cleaner.state.floatbank2_a_level, secondary_cleaner.state.floatbank2_b_air, secondary_cleaner.state.floatbank2_b_level, secondary_cleaner.state.floatbank3_a_air, secondary_cleaner.state.floatbank3_a_level, secondary_cleaner.state.floatbank3_b_air, secondary_cleaner.state.floatbank3_b_level, secondary_cleaner.state.floatbank4_a_air, secondary_cleaner.state.floatbank4_a_level, secondary_cleaner.state.floatbank4_b_air, secondary_cleaner.state.floatbank4_b_level, secondary_cleaner.state.floatbank5_a_air, secondary_cleaner.state.floatbank5_a_level, secondary_cleaner.state.floatbank5_b_air, secondary_cleaner.state.floatbank5_b_level, secondary_cleaner.state.floatbank6_a_air, secondary_cleaner.state.floatbank6_a_level]\n",
       "Index: []\n",
       "\n",
       "[0 rows x 53 columns]"
      ]
     },
     "execution_count": 18,
     "metadata": {},
     "output_type": "execute_result"
    }
   ],
   "source": [
    "#Checking for duplicates in the test dataset\n",
    "test[test.duplicated()]"
   ]
  },
  {
   "cell_type": "code",
   "execution_count": 19,
   "id": "bc5259fe",
   "metadata": {},
   "outputs": [],
   "source": [
    "#changing date column to datetime \n",
    "train['date'] = pd.to_datetime(train.date)\n",
    "test['date'] = pd.to_datetime(test.date)\n",
    "full['date'] = pd.to_datetime(full.date)"
   ]
  },
  {
   "cell_type": "code",
   "execution_count": 20,
   "id": "6d868bc0",
   "metadata": {},
   "outputs": [],
   "source": [
    "#getting target columns from the full dataset\n",
    "test = test.merge(full[['date','rougher.output.recovery', 'final.output.recovery']], how = 'left',on = 'date')"
   ]
  },
  {
   "cell_type": "code",
   "execution_count": 21,
   "id": "f042e613",
   "metadata": {},
   "outputs": [
    {
     "data": {
      "text/plain": [
       "date                                          0.000000\n",
       "primary_cleaner.input.sulfate                 5.157104\n",
       "primary_cleaner.input.depressant              4.849727\n",
       "primary_cleaner.input.feed_size               0.000000\n",
       "primary_cleaner.input.xanthate                2.834699\n",
       "primary_cleaner.state.floatbank8_a_air        0.273224\n",
       "primary_cleaner.state.floatbank8_a_level      0.273224\n",
       "primary_cleaner.state.floatbank8_b_air        0.273224\n",
       "primary_cleaner.state.floatbank8_b_level      0.273224\n",
       "primary_cleaner.state.floatbank8_c_air        0.273224\n",
       "primary_cleaner.state.floatbank8_c_level      0.273224\n",
       "primary_cleaner.state.floatbank8_d_air        0.273224\n",
       "primary_cleaner.state.floatbank8_d_level      0.273224\n",
       "rougher.input.feed_ag                         0.273224\n",
       "rougher.input.feed_pb                         0.273224\n",
       "rougher.input.feed_rate                       0.683060\n",
       "rougher.input.feed_size                       0.375683\n",
       "rougher.input.feed_sol                        1.144126\n",
       "rougher.input.feed_au                         0.273224\n",
       "rougher.input.floatbank10_sulfate             4.388661\n",
       "rougher.input.floatbank10_xanthate            2.100410\n",
       "rougher.input.floatbank11_sulfate             0.939208\n",
       "rougher.input.floatbank11_xanthate            6.028005\n",
       "rougher.state.floatbank10_a_air               0.290301\n",
       "rougher.state.floatbank10_a_level             0.273224\n",
       "rougher.state.floatbank10_b_air               0.290301\n",
       "rougher.state.floatbank10_b_level             0.273224\n",
       "rougher.state.floatbank10_c_air               0.290301\n",
       "rougher.state.floatbank10_c_level             0.273224\n",
       "rougher.state.floatbank10_d_air               0.290301\n",
       "rougher.state.floatbank10_d_level             0.273224\n",
       "rougher.state.floatbank10_e_air               0.290301\n",
       "rougher.state.floatbank10_e_level             0.273224\n",
       "rougher.state.floatbank10_f_air               0.290301\n",
       "rougher.state.floatbank10_f_level             0.273224\n",
       "secondary_cleaner.state.floatbank2_a_air      0.341530\n",
       "secondary_cleaner.state.floatbank2_a_level    0.273224\n",
       "secondary_cleaner.state.floatbank2_b_air      0.392760\n",
       "secondary_cleaner.state.floatbank2_b_level    0.273224\n",
       "secondary_cleaner.state.floatbank3_a_air      0.580601\n",
       "secondary_cleaner.state.floatbank3_a_level    0.273224\n",
       "secondary_cleaner.state.floatbank3_b_air      0.273224\n",
       "secondary_cleaner.state.floatbank3_b_level    0.273224\n",
       "secondary_cleaner.state.floatbank4_a_air      0.273224\n",
       "secondary_cleaner.state.floatbank4_a_level    0.273224\n",
       "secondary_cleaner.state.floatbank4_b_air      0.273224\n",
       "secondary_cleaner.state.floatbank4_b_level    0.273224\n",
       "secondary_cleaner.state.floatbank5_a_air      0.273224\n",
       "secondary_cleaner.state.floatbank5_a_level    0.273224\n",
       "secondary_cleaner.state.floatbank5_b_air      0.273224\n",
       "secondary_cleaner.state.floatbank5_b_level    0.273224\n",
       "secondary_cleaner.state.floatbank6_a_air      0.273224\n",
       "secondary_cleaner.state.floatbank6_a_level    0.273224\n",
       "rougher.output.recovery                       9.323770\n",
       "final.output.recovery                         7.547814\n",
       "dtype: float64"
      ]
     },
     "metadata": {},
     "output_type": "display_data"
    }
   ],
   "source": [
    "#checking for na values in the test dataset\n",
    "display((test.isna().sum() /len(test))*100)"
   ]
  },
  {
   "cell_type": "code",
   "execution_count": 22,
   "id": "4d1d87cf",
   "metadata": {},
   "outputs": [
    {
     "data": {
      "text/plain": [
       "date                                          0.000000\n",
       "final.output.concentrate_ag                   1.229508\n",
       "final.output.concentrate_pb                   1.229508\n",
       "final.output.concentrate_sol                  6.318306\n",
       "final.output.concentrate_au                   1.212432\n",
       "                                                ...   \n",
       "secondary_cleaner.state.floatbank5_a_level    1.451503\n",
       "secondary_cleaner.state.floatbank5_b_air      1.451503\n",
       "secondary_cleaner.state.floatbank5_b_level    1.434426\n",
       "secondary_cleaner.state.floatbank6_a_air      1.758880\n",
       "secondary_cleaner.state.floatbank6_a_level    1.451503\n",
       "Length: 87, dtype: float64"
      ]
     },
     "metadata": {},
     "output_type": "display_data"
    }
   ],
   "source": [
    "#checking for na values in the train dataset\n",
    "display((train.isna().sum() /len(test))*100)"
   ]
  },
  {
   "cell_type": "code",
   "execution_count": 23,
   "id": "de73ed65",
   "metadata": {},
   "outputs": [],
   "source": [
    "# Replace infinite updated data with nan\n",
    "test = test.replace([np.inf, -np.inf], np.nan)\n",
    "train = train.replace([np.inf, -np.inf], np.nan)\n"
   ]
  },
  {
   "cell_type": "code",
   "execution_count": 24,
   "id": "e8fcbe24",
   "metadata": {},
   "outputs": [],
   "source": [
    "test = test.ffill(axis = 0)\n",
    "train = train.ffill(axis = 0)"
   ]
  },
  {
   "cell_type": "code",
   "execution_count": 25,
   "id": "99ad35b6",
   "metadata": {},
   "outputs": [
    {
     "data": {
      "text/plain": [
       "0"
      ]
     },
     "metadata": {},
     "output_type": "display_data"
    }
   ],
   "source": [
    "display(train.isna().sum().sum())"
   ]
  },
  {
   "cell_type": "code",
   "execution_count": 26,
   "id": "7411f53d",
   "metadata": {},
   "outputs": [
    {
     "data": {
      "text/plain": [
       "0"
      ]
     },
     "metadata": {},
     "output_type": "display_data"
    }
   ],
   "source": [
    "display(test.isna().sum().sum())"
   ]
  },
  {
   "cell_type": "markdown",
   "id": "5a8950eb",
   "metadata": {},
   "source": [
    "We can see had alot of nan values. I replaced them with the previous value of there columns. Now that we preprocessed that data we can move on to EDA "
   ]
  },
  {
   "cell_type": "markdown",
   "id": "20b75886",
   "metadata": {},
   "source": [
    "# Exploratory Data Analysis"
   ]
  },
  {
   "cell_type": "markdown",
   "id": "93a9ec40",
   "metadata": {},
   "source": [
    "The concentrations of metals (Au, Ag, Pb) change depending on the purification stage."
   ]
  },
  {
   "cell_type": "code",
   "execution_count": 27,
   "id": "d298e89a",
   "metadata": {},
   "outputs": [
    {
     "data": {
      "image/png": "[encoded data removed]",
      "text/plain": [
       "<Figure size 842.4x595.44 with 1 Axes>"
      ]
     },
     "metadata": {},
     "output_type": "display_data"
    }
   ],
   "source": [
    "sns.histplot(data = train , x =  'rougher.output.concentrate_ag' , color = 'red', label='Rougher_AG', kde=True) \n",
    "sns.histplot(data = train , x =  'rougher.output.concentrate_au' , color = 'gold', label='Rougher_AU', kde=True) \n",
    "sns.histplot(data = train , x =  'rougher.output.concentrate_pb' , color = 'green', label='Rougher_PB', kde=True)\n",
    "\n",
    "plt.legend() \n",
    "plt.title(\"Rougher Concentrate\")\n",
    "plt.show()"
   ]
  },
  {
   "cell_type": "code",
   "execution_count": 28,
   "id": "74fb7ac9",
   "metadata": {},
   "outputs": [
    {
     "data": {
      "image/png": "[encoded data removed]",
      "text/plain": [
       "<Figure size 842.4x595.44 with 1 Axes>"
      ]
     },
     "metadata": {},
     "output_type": "display_data"
    }
   ],
   "source": [
    "sns.histplot(data = train , x =  'primary_cleaner.output.concentrate_ag' , color = 'red', label='Primary_AG', kde=True) \n",
    "sns.histplot(data = train , x =  'primary_cleaner.output.concentrate_pb' , color = 'green', label='Primary_PB', kde=True) \n",
    "sns.histplot(data = train , x =  'primary_cleaner.output.concentrate_au' , color = 'gold', label='Primary_AU', kde=True) \n",
    "\n",
    "plt.legend() \n",
    "plt.title('Primary Cleaner Concentrate')\n",
    "plt.show()"
   ]
  },
  {
   "cell_type": "code",
   "execution_count": 29,
   "id": "3f4dd265",
   "metadata": {},
   "outputs": [
    {
     "data": {
      "image/png": "[encoded data removed]",
      "text/plain": [
       "<Figure size 842.4x595.44 with 1 Axes>"
      ]
     },
     "metadata": {},
     "output_type": "display_data"
    }
   ],
   "source": [
    "sns.histplot(data = train , x =  'final.output.concentrate_ag' , color = 'red', label='Final_AG', kde=True) \n",
    "sns.histplot(data = train , x =  'final.output.concentrate_pb' , color = 'green', label='Final_PB', kde=True) \n",
    "sns.histplot(data = train , x =  'final.output.concentrate_au' , color = 'gold', label='Final_AU', kde=True)\n",
    "\n",
    "plt.legend() \n",
    "plt.title(\"Final Concentrate\")\n",
    "plt.show()"
   ]
  },
  {
   "cell_type": "markdown",
   "id": "7153ab7a",
   "metadata": {},
   "source": [
    "As we proceed forward in the concentration stages we can gold is concentrated more through out the process"
   ]
  },
  {
   "cell_type": "markdown",
   "id": "5b535611",
   "metadata": {},
   "source": [
    "Feed particle size distributions"
   ]
  },
  {
   "cell_type": "code",
   "execution_count": 30,
   "id": "e6c83c12",
   "metadata": {},
   "outputs": [
    {
     "data": {
      "image/png": "[encoded data removed]",
      "text/plain": [
       "<Figure size 842.4x595.44 with 1 Axes>"
      ]
     },
     "metadata": {},
     "output_type": "display_data"
    }
   ],
   "source": [
    "sns.histplot(data = test, x = 'rougher.input.feed_size', color = 'purple', label = 'Rougher_Feed_Test',  kde = True)\n",
    "sns.histplot(data = train, x = 'rougher.input.feed_size', color = 'yellow', label = 'Rougher_Feed_Train',  kde = True)\n",
    "plt.legend() \n",
    "plt.xlim((0,150))\n",
    "plt.title(\"Distrubtion of Particle Size(Train set)\")\n",
    "plt.show()"
   ]
  },
  {
   "cell_type": "markdown",
   "id": "a6a663d1",
   "metadata": {},
   "source": [
    "We can see that the Test and Train dataset are equally distrubuted the same and we can see that after the primary feed the particle size is more concentrated"
   ]
  },
  {
   "cell_type": "markdown",
   "id": "ad9877e9",
   "metadata": {},
   "source": [
    "# Concetration of All Metals at different stages"
   ]
  },
  {
   "cell_type": "code",
   "execution_count": 31,
   "id": "a9acad1d",
   "metadata": {},
   "outputs": [
    {
     "data": {
      "image/png": "[encoded data removed]",
      "text/plain": [
       "<Figure size 842.4x595.44 with 1 Axes>"
      ]
     },
     "metadata": {},
     "output_type": "display_data"
    }
   ],
   "source": [
    "metals = ['au', 'ag', 'pb']\n",
    "stages = ['rougher.input.feed','rougher.output.concentrate', 'primary_cleaner.output.concentrate', 'final.output.concentrate']\n",
    "for stage in stages:\n",
    "    train[stage+'_all_metals'] = 0\n",
    "    for metal in metals:\n",
    "        train[stage+'_all_metals'] += train[stage+'_'+metal]\n",
    "    plt.hist(train[stage+'_all_metals'], bins=100, label=stage, alpha=.5)\n",
    "    plt.title('Total concentration of metals per stage')\n",
    "    plt.legend();"
   ]
  },
  {
   "cell_type": "markdown",
   "id": "9f479fbe",
   "metadata": {},
   "source": [
    "We can  see after going through all stages we can see the concentration is very high at the end of the final stage and theres alot of rows with zero concentration. we will remove these "
   ]
  },
  {
   "cell_type": "code",
   "execution_count": 32,
   "id": "f3ca13dc",
   "metadata": {},
   "outputs": [
    {
     "data": {
      "image/png": "[encoded data removed]",
      "text/plain": [
       "<Figure size 842.4x595.44 with 1 Axes>"
      ]
     },
     "metadata": {},
     "output_type": "display_data"
    }
   ],
   "source": [
    "# Turning all values below 0.01 into nan and then droping them \n",
    "for i,metal in enumerate(metals):\n",
    "    for stage in stages:\n",
    "        train[train[stage+'_'+metal]<0.01] = np.nan\n",
    "train = train.dropna(how='any', axis=0)\n",
    "\n",
    "metals = ['au', 'ag', 'pb']\n",
    "stages = ['rougher.input.feed','rougher.output.concentrate', 'primary_cleaner.output.concentrate', 'final.output.concentrate']\n",
    "for stage in stages:\n",
    "    train[stage+'_all_metals'] = 0\n",
    "    for metal in metals:\n",
    "        train[stage+'_all_metals'] += train[stage+'_'+metal]\n",
    "    plt.hist(train[stage+'_all_metals'], bins=100, label=stage, alpha=.5)\n",
    "    plt.title('Total concentration of metals per stage')\n",
    "    plt.legend();\n"
   ]
  },
  {
   "cell_type": "markdown",
   "id": "b4185035",
   "metadata": {},
   "source": [
    "We can see that we successfully removed all the rows with 0 total concentration. "
   ]
  },
  {
   "cell_type": "markdown",
   "id": "6eeed854",
   "metadata": {},
   "source": [
    "# Target Analysis"
   ]
  },
  {
   "cell_type": "markdown",
   "id": "c4873f0c",
   "metadata": {},
   "source": [
    "# Correlation of our Final and Rougher output"
   ]
  },
  {
   "cell_type": "code",
   "execution_count": 33,
   "id": "29fef833",
   "metadata": {},
   "outputs": [
    {
     "data": {
      "image/png": "[encoded data removed]",
      "text/plain": [
       "<Figure size 842.4x595.44 with 1 Axes>"
      ]
     },
     "metadata": {},
     "output_type": "display_data"
    }
   ],
   "source": [
    "correlations = train.corr()\n",
    "train_final_corr = correlations['rougher.output.recovery'].to_frame().reset_index()\n",
    "\n",
    "\n",
    "# These have higher correlation to the rougher output recovery\n",
    "postive = train_final_corr[train_final_corr['rougher.output.recovery'] >0].sort_values('rougher.output.recovery', ascending = False)\n",
    "r = postive['index'].str.contains('rougher')\n",
    "sns.barplot(data = postive[r], x = 'rougher.output.recovery', y= 'index')\n",
    "plt.xticks(rotation=90)\n",
    "plt.title('Postive_Corr')\n",
    "plt.show()"
   ]
  },
  {
   "cell_type": "code",
   "execution_count": 34,
   "id": "af1dbf58",
   "metadata": {},
   "outputs": [
    {
     "data": {
      "text/html": [
       "<div>\n",
       "<style scoped>\n",
       "    .dataframe tbody tr th:only-of-type {\n",
       "        vertical-align: middle;\n",
       "    }\n",
       "\n",
       "    .dataframe tbody tr th {\n",
       "        vertical-align: top;\n",
       "    }\n",
       "\n",
       "    .dataframe thead th {\n",
       "        text-align: right;\n",
       "    }\n",
       "</style>\n",
       "<table border=\"1\" class=\"dataframe\">\n",
       "  <thead>\n",
       "    <tr style=\"text-align: right;\">\n",
       "      <th></th>\n",
       "      <th>index</th>\n",
       "      <th>rougher.output.recovery</th>\n",
       "    </tr>\n",
       "  </thead>\n",
       "  <tbody>\n",
       "    <tr>\n",
       "      <th>51</th>\n",
       "      <td>rougher.output.tail_au</td>\n",
       "      <td>-0.564390</td>\n",
       "    </tr>\n",
       "    <tr>\n",
       "      <th>49</th>\n",
       "      <td>rougher.output.tail_pb</td>\n",
       "      <td>-0.464637</td>\n",
       "    </tr>\n",
       "    <tr>\n",
       "      <th>48</th>\n",
       "      <td>rougher.output.tail_ag</td>\n",
       "      <td>-0.344934</td>\n",
       "    </tr>\n",
       "    <tr>\n",
       "      <th>56</th>\n",
       "      <td>rougher.state.floatbank10_c_air</td>\n",
       "      <td>-0.276453</td>\n",
       "    </tr>\n",
       "    <tr>\n",
       "      <th>58</th>\n",
       "      <td>rougher.state.floatbank10_d_air</td>\n",
       "      <td>-0.272047</td>\n",
       "    </tr>\n",
       "    <tr>\n",
       "      <th>54</th>\n",
       "      <td>rougher.state.floatbank10_b_air</td>\n",
       "      <td>-0.233955</td>\n",
       "    </tr>\n",
       "    <tr>\n",
       "      <th>60</th>\n",
       "      <td>rougher.state.floatbank10_e_air</td>\n",
       "      <td>-0.201803</td>\n",
       "    </tr>\n",
       "    <tr>\n",
       "      <th>59</th>\n",
       "      <td>rougher.state.floatbank10_d_level</td>\n",
       "      <td>-0.160044</td>\n",
       "    </tr>\n",
       "    <tr>\n",
       "      <th>55</th>\n",
       "      <td>rougher.state.floatbank10_b_level</td>\n",
       "      <td>-0.158208</td>\n",
       "    </tr>\n",
       "    <tr>\n",
       "      <th>57</th>\n",
       "      <td>rougher.state.floatbank10_c_level</td>\n",
       "      <td>-0.157907</td>\n",
       "    </tr>\n",
       "    <tr>\n",
       "      <th>61</th>\n",
       "      <td>rougher.state.floatbank10_e_level</td>\n",
       "      <td>-0.155806</td>\n",
       "    </tr>\n",
       "    <tr>\n",
       "      <th>63</th>\n",
       "      <td>rougher.state.floatbank10_f_level</td>\n",
       "      <td>-0.155533</td>\n",
       "    </tr>\n",
       "    <tr>\n",
       "      <th>62</th>\n",
       "      <td>rougher.state.floatbank10_f_air</td>\n",
       "      <td>-0.146449</td>\n",
       "    </tr>\n",
       "    <tr>\n",
       "      <th>32</th>\n",
       "      <td>rougher.calculation.au_pb_ratio</td>\n",
       "      <td>-0.076320</td>\n",
       "    </tr>\n",
       "    <tr>\n",
       "      <th>46</th>\n",
       "      <td>rougher.output.concentrate_au</td>\n",
       "      <td>-0.064924</td>\n",
       "    </tr>\n",
       "    <tr>\n",
       "      <th>30</th>\n",
       "      <td>rougher.calculation.floatbank10_sulfate_to_au_...</td>\n",
       "      <td>-0.052251</td>\n",
       "    </tr>\n",
       "    <tr>\n",
       "      <th>31</th>\n",
       "      <td>rougher.calculation.floatbank11_sulfate_to_au_...</td>\n",
       "      <td>-0.045795</td>\n",
       "    </tr>\n",
       "    <tr>\n",
       "      <th>29</th>\n",
       "      <td>rougher.calculation.sulfate_to_au_concentrate</td>\n",
       "      <td>-0.006966</td>\n",
       "    </tr>\n",
       "    <tr>\n",
       "      <th>39</th>\n",
       "      <td>rougher.input.floatbank10_sulfate</td>\n",
       "      <td>-0.003145</td>\n",
       "    </tr>\n",
       "  </tbody>\n",
       "</table>\n",
       "</div>"
      ],
      "text/plain": [
       "                                                index  rougher.output.recovery\n",
       "51                             rougher.output.tail_au                -0.564390\n",
       "49                             rougher.output.tail_pb                -0.464637\n",
       "48                             rougher.output.tail_ag                -0.344934\n",
       "56                    rougher.state.floatbank10_c_air                -0.276453\n",
       "58                    rougher.state.floatbank10_d_air                -0.272047\n",
       "54                    rougher.state.floatbank10_b_air                -0.233955\n",
       "60                    rougher.state.floatbank10_e_air                -0.201803\n",
       "59                  rougher.state.floatbank10_d_level                -0.160044\n",
       "55                  rougher.state.floatbank10_b_level                -0.158208\n",
       "57                  rougher.state.floatbank10_c_level                -0.157907\n",
       "61                  rougher.state.floatbank10_e_level                -0.155806\n",
       "63                  rougher.state.floatbank10_f_level                -0.155533\n",
       "62                    rougher.state.floatbank10_f_air                -0.146449\n",
       "32                    rougher.calculation.au_pb_ratio                -0.076320\n",
       "46                      rougher.output.concentrate_au                -0.064924\n",
       "30  rougher.calculation.floatbank10_sulfate_to_au_...                -0.052251\n",
       "31  rougher.calculation.floatbank11_sulfate_to_au_...                -0.045795\n",
       "29      rougher.calculation.sulfate_to_au_concentrate                -0.006966\n",
       "39                  rougher.input.floatbank10_sulfate                -0.003145"
      ]
     },
     "execution_count": 34,
     "metadata": {},
     "output_type": "execute_result"
    }
   ],
   "source": [
    "#negative corr\n",
    "negative = train_final_corr[train_final_corr['rougher.output.recovery'] <0].sort_values('rougher.output.recovery', ascending = True)\n",
    "r = negative['index'].str.contains('rougher')\n",
    "negative[r]"
   ]
  },
  {
   "cell_type": "code",
   "execution_count": 35,
   "id": "5c75942e",
   "metadata": {},
   "outputs": [
    {
     "data": {
      "image/png": "[encoded data removed]",
      "text/plain": [
       "<Figure size 842.4x595.44 with 1 Axes>"
      ]
     },
     "metadata": {},
     "output_type": "display_data"
    }
   ],
   "source": [
    "#corr\n",
    "correlations = train.corr()\n",
    "train_final_corr = correlations['final.output.recovery'].to_frame().reset_index()\n",
    "sns.set(rc={'figure.figsize':(11.7,8.27)})\n",
    "# These have higher correlation to the final output recovery\n",
    "postive = train_final_corr[train_final_corr['final.output.recovery'] >0].sort_values('final.output.recovery', ascending = False)\n",
    "\n",
    "sns.barplot(data = postive, x = 'final.output.recovery', y= 'index')\n",
    "plt.xticks(rotation=90)\n",
    "plt.title('Postive_Corr')\n",
    "plt.show()\n"
   ]
  },
  {
   "cell_type": "code",
   "execution_count": 36,
   "id": "33043a0e",
   "metadata": {},
   "outputs": [
    {
     "data": {
      "text/html": [
       "<div>\n",
       "<style scoped>\n",
       "    .dataframe tbody tr th:only-of-type {\n",
       "        vertical-align: middle;\n",
       "    }\n",
       "\n",
       "    .dataframe tbody tr th {\n",
       "        vertical-align: top;\n",
       "    }\n",
       "\n",
       "    .dataframe thead th {\n",
       "        text-align: right;\n",
       "    }\n",
       "</style>\n",
       "<table border=\"1\" class=\"dataframe\">\n",
       "  <thead>\n",
       "    <tr style=\"text-align: right;\">\n",
       "      <th></th>\n",
       "      <th>index</th>\n",
       "      <th>final.output.recovery</th>\n",
       "    </tr>\n",
       "  </thead>\n",
       "  <tbody>\n",
       "    <tr>\n",
       "      <th>8</th>\n",
       "      <td>final.output.tail_au</td>\n",
       "      <td>-0.466227</td>\n",
       "    </tr>\n",
       "    <tr>\n",
       "      <th>20</th>\n",
       "      <td>primary_cleaner.output.tail_au</td>\n",
       "      <td>-0.420246</td>\n",
       "    </tr>\n",
       "    <tr>\n",
       "      <th>67</th>\n",
       "      <td>secondary_cleaner.output.tail_au</td>\n",
       "      <td>-0.385607</td>\n",
       "    </tr>\n",
       "    <tr>\n",
       "      <th>51</th>\n",
       "      <td>rougher.output.tail_au</td>\n",
       "      <td>-0.336173</td>\n",
       "    </tr>\n",
       "    <tr>\n",
       "      <th>49</th>\n",
       "      <td>rougher.output.tail_pb</td>\n",
       "      <td>-0.331478</td>\n",
       "    </tr>\n",
       "    <tr>\n",
       "      <th>16</th>\n",
       "      <td>primary_cleaner.output.concentrate_au</td>\n",
       "      <td>-0.200385</td>\n",
       "    </tr>\n",
       "    <tr>\n",
       "      <th>56</th>\n",
       "      <td>rougher.state.floatbank10_c_air</td>\n",
       "      <td>-0.186467</td>\n",
       "    </tr>\n",
       "    <tr>\n",
       "      <th>58</th>\n",
       "      <td>rougher.state.floatbank10_d_air</td>\n",
       "      <td>-0.179137</td>\n",
       "    </tr>\n",
       "    <tr>\n",
       "      <th>48</th>\n",
       "      <td>rougher.output.tail_ag</td>\n",
       "      <td>-0.158351</td>\n",
       "    </tr>\n",
       "    <tr>\n",
       "      <th>6</th>\n",
       "      <td>final.output.tail_pb</td>\n",
       "      <td>-0.157787</td>\n",
       "    </tr>\n",
       "    <tr>\n",
       "      <th>54</th>\n",
       "      <td>rougher.state.floatbank10_b_air</td>\n",
       "      <td>-0.147496</td>\n",
       "    </tr>\n",
       "    <tr>\n",
       "      <th>60</th>\n",
       "      <td>rougher.state.floatbank10_e_air</td>\n",
       "      <td>-0.129676</td>\n",
       "    </tr>\n",
       "    <tr>\n",
       "      <th>79</th>\n",
       "      <td>secondary_cleaner.state.floatbank4_b_level</td>\n",
       "      <td>-0.103270</td>\n",
       "    </tr>\n",
       "    <tr>\n",
       "      <th>7</th>\n",
       "      <td>final.output.tail_sol</td>\n",
       "      <td>-0.099060</td>\n",
       "    </tr>\n",
       "    <tr>\n",
       "      <th>59</th>\n",
       "      <td>rougher.state.floatbank10_d_level</td>\n",
       "      <td>-0.093639</td>\n",
       "    </tr>\n",
       "    <tr>\n",
       "      <th>62</th>\n",
       "      <td>rougher.state.floatbank10_f_air</td>\n",
       "      <td>-0.093400</td>\n",
       "    </tr>\n",
       "    <tr>\n",
       "      <th>63</th>\n",
       "      <td>rougher.state.floatbank10_f_level</td>\n",
       "      <td>-0.091777</td>\n",
       "    </tr>\n",
       "    <tr>\n",
       "      <th>61</th>\n",
       "      <td>rougher.state.floatbank10_e_level</td>\n",
       "      <td>-0.091134</td>\n",
       "    </tr>\n",
       "    <tr>\n",
       "      <th>57</th>\n",
       "      <td>rougher.state.floatbank10_c_level</td>\n",
       "      <td>-0.090259</td>\n",
       "    </tr>\n",
       "    <tr>\n",
       "      <th>55</th>\n",
       "      <td>rougher.state.floatbank10_b_level</td>\n",
       "      <td>-0.080422</td>\n",
       "    </tr>\n",
       "    <tr>\n",
       "      <th>30</th>\n",
       "      <td>rougher.calculation.floatbank10_sulfate_to_au_...</td>\n",
       "      <td>-0.072432</td>\n",
       "    </tr>\n",
       "    <tr>\n",
       "      <th>1</th>\n",
       "      <td>final.output.concentrate_pb</td>\n",
       "      <td>-0.069588</td>\n",
       "    </tr>\n",
       "    <tr>\n",
       "      <th>46</th>\n",
       "      <td>rougher.output.concentrate_au</td>\n",
       "      <td>-0.061986</td>\n",
       "    </tr>\n",
       "    <tr>\n",
       "      <th>44</th>\n",
       "      <td>rougher.output.concentrate_pb</td>\n",
       "      <td>-0.061229</td>\n",
       "    </tr>\n",
       "    <tr>\n",
       "      <th>31</th>\n",
       "      <td>rougher.calculation.floatbank11_sulfate_to_au_...</td>\n",
       "      <td>-0.056723</td>\n",
       "    </tr>\n",
       "    <tr>\n",
       "      <th>66</th>\n",
       "      <td>secondary_cleaner.output.tail_sol</td>\n",
       "      <td>-0.054026</td>\n",
       "    </tr>\n",
       "    <tr>\n",
       "      <th>85</th>\n",
       "      <td>secondary_cleaner.state.floatbank6_a_level</td>\n",
       "      <td>-0.047169</td>\n",
       "    </tr>\n",
       "    <tr>\n",
       "      <th>28</th>\n",
       "      <td>primary_cleaner.state.floatbank8_d_level</td>\n",
       "      <td>-0.039831</td>\n",
       "    </tr>\n",
       "    <tr>\n",
       "      <th>84</th>\n",
       "      <td>secondary_cleaner.state.floatbank6_a_air</td>\n",
       "      <td>-0.021897</td>\n",
       "    </tr>\n",
       "    <tr>\n",
       "      <th>65</th>\n",
       "      <td>secondary_cleaner.output.tail_pb</td>\n",
       "      <td>-0.017605</td>\n",
       "    </tr>\n",
       "    <tr>\n",
       "      <th>71</th>\n",
       "      <td>secondary_cleaner.state.floatbank2_b_level</td>\n",
       "      <td>-0.013117</td>\n",
       "    </tr>\n",
       "    <tr>\n",
       "      <th>29</th>\n",
       "      <td>rougher.calculation.sulfate_to_au_concentrate</td>\n",
       "      <td>-0.010272</td>\n",
       "    </tr>\n",
       "    <tr>\n",
       "      <th>39</th>\n",
       "      <td>rougher.input.floatbank10_sulfate</td>\n",
       "      <td>-0.005332</td>\n",
       "    </tr>\n",
       "    <tr>\n",
       "      <th>69</th>\n",
       "      <td>secondary_cleaner.state.floatbank2_a_level</td>\n",
       "      <td>-0.003972</td>\n",
       "    </tr>\n",
       "  </tbody>\n",
       "</table>\n",
       "</div>"
      ],
      "text/plain": [
       "                                                index  final.output.recovery\n",
       "8                                final.output.tail_au              -0.466227\n",
       "20                     primary_cleaner.output.tail_au              -0.420246\n",
       "67                   secondary_cleaner.output.tail_au              -0.385607\n",
       "51                             rougher.output.tail_au              -0.336173\n",
       "49                             rougher.output.tail_pb              -0.331478\n",
       "16              primary_cleaner.output.concentrate_au              -0.200385\n",
       "56                    rougher.state.floatbank10_c_air              -0.186467\n",
       "58                    rougher.state.floatbank10_d_air              -0.179137\n",
       "48                             rougher.output.tail_ag              -0.158351\n",
       "6                                final.output.tail_pb              -0.157787\n",
       "54                    rougher.state.floatbank10_b_air              -0.147496\n",
       "60                    rougher.state.floatbank10_e_air              -0.129676\n",
       "79         secondary_cleaner.state.floatbank4_b_level              -0.103270\n",
       "7                               final.output.tail_sol              -0.099060\n",
       "59                  rougher.state.floatbank10_d_level              -0.093639\n",
       "62                    rougher.state.floatbank10_f_air              -0.093400\n",
       "63                  rougher.state.floatbank10_f_level              -0.091777\n",
       "61                  rougher.state.floatbank10_e_level              -0.091134\n",
       "57                  rougher.state.floatbank10_c_level              -0.090259\n",
       "55                  rougher.state.floatbank10_b_level              -0.080422\n",
       "30  rougher.calculation.floatbank10_sulfate_to_au_...              -0.072432\n",
       "1                         final.output.concentrate_pb              -0.069588\n",
       "46                      rougher.output.concentrate_au              -0.061986\n",
       "44                      rougher.output.concentrate_pb              -0.061229\n",
       "31  rougher.calculation.floatbank11_sulfate_to_au_...              -0.056723\n",
       "66                  secondary_cleaner.output.tail_sol              -0.054026\n",
       "85         secondary_cleaner.state.floatbank6_a_level              -0.047169\n",
       "28           primary_cleaner.state.floatbank8_d_level              -0.039831\n",
       "84           secondary_cleaner.state.floatbank6_a_air              -0.021897\n",
       "65                   secondary_cleaner.output.tail_pb              -0.017605\n",
       "71         secondary_cleaner.state.floatbank2_b_level              -0.013117\n",
       "29      rougher.calculation.sulfate_to_au_concentrate              -0.010272\n",
       "39                  rougher.input.floatbank10_sulfate              -0.005332\n",
       "69         secondary_cleaner.state.floatbank2_a_level              -0.003972"
      ]
     },
     "execution_count": 36,
     "metadata": {},
     "output_type": "execute_result"
    }
   ],
   "source": [
    "\n",
    "# These have negative correlation to the final output recovery\n",
    "negative = train_final_corr[train_final_corr['final.output.recovery'] <0].sort_values('final.output.recovery', ascending = True)\n",
    "negative\n"
   ]
  },
  {
   "cell_type": "markdown",
   "id": "7595d074",
   "metadata": {},
   "source": [
    "We can see Which columns have a postive correlation to our final and rougher output. We can see theres alot of negative columns impacting our final output."
   ]
  },
  {
   "cell_type": "markdown",
   "id": "960f95d1",
   "metadata": {},
   "source": [
    "# Standard Scale "
   ]
  },
  {
   "cell_type": "code",
   "execution_count": 37,
   "id": "87629f6c",
   "metadata": {},
   "outputs": [],
   "source": [
    "L = np.setdiff1d(train.columns, test.columns).tolist()\n",
    "train = train.drop(columns = L)"
   ]
  },
  {
   "cell_type": "code",
   "execution_count": 38,
   "id": "15c643e3",
   "metadata": {},
   "outputs": [],
   "source": [
    "#Separating our columns for x_train x_test y_train y_test\n",
    "X_train = train.drop(['final.output.recovery','rougher.output.recovery','date'],axis = 1)\n",
    "X_valid = test.drop(['final.output.recovery','rougher.output.recovery','date'],axis = 1)\n",
    "\n",
    "y_train = train[['final.output.recovery','rougher.output.recovery']].values\n",
    "y_valid = test[['final.output.recovery','rougher.output.recovery']].values\n",
    "\n",
    "\n"
   ]
  },
  {
   "cell_type": "markdown",
   "id": "bf81c25b",
   "metadata": {},
   "source": [
    "# Evaluation metric\n",
    "Let's write a function to calculate the final sMAPE value.\n",
    "\n",
    "sMAPE is a symmetric Mean Absolute Percentage Error.\n",
    "\n",
    "It is similar to MAE, but is expressed in relative values instead of absolute ones. It equally takes into account the scale of both the target and the prediction."
   ]
  },
  {
   "cell_type": "code",
   "execution_count": 39,
   "id": "5c18dacb",
   "metadata": {},
   "outputs": [],
   "source": [
    "def smape(act, forc):\n",
    "    return (np.abs(act-forc)/((np.abs(act) + np.abs(forc))/2)).mean()"
   ]
  },
  {
   "cell_type": "code",
   "execution_count": 40,
   "id": "d3348951",
   "metadata": {},
   "outputs": [],
   "source": [
    "def smape_final(act,forc):\n",
    "    smape_rougher = smape(act[:,0], forc[:,0])\n",
    "    smape_final = smape(act[:,1], forc[:,1])\n",
    "    return 0.25*smape_rougher + 0.75*smape_final"
   ]
  },
  {
   "cell_type": "code",
   "execution_count": 41,
   "id": "18323d84",
   "metadata": {},
   "outputs": [],
   "source": [
    "# Smape_final as our scoring methods for our cross validation. \n",
    "def crossval(model, X_train, y_train, cv):\n",
    "    smape_score = make_scorer(smape_final)\n",
    "    scores = cross_val_score(model, X_train, y_train, cv=cv, scoring = smape_score)\n",
    "    return scores.mean()"
   ]
  },
  {
   "cell_type": "markdown",
   "id": "b4946c97",
   "metadata": {},
   "source": [
    "# Model Selection"
   ]
  },
  {
   "cell_type": "markdown",
   "id": "b758e60f",
   "metadata": {},
   "source": [
    "Lets use Four regression model to predict our target variables, Linear,lasso,RandomForest and ElasticNet"
   ]
  },
  {
   "cell_type": "code",
   "execution_count": 42,
   "id": "d45d8f6b",
   "metadata": {},
   "outputs": [],
   "source": [
    "dum = Pipeline([('scalar5',StandardScaler()), ('Dummy', DummyRegressor(strategy=\"mean\"))])\n",
    "lr = Pipeline([('scalar1',StandardScaler()), ('LR',LinearRegression())])\n",
    "rfr =  Pipeline([('scalar2',StandardScaler()), ('RFR',RandomForestRegressor(n_estimators = 10,random_state =1))])\n",
    "el = Pipeline([('scalar4',StandardScaler()), ('Elnet', ElasticNet(random_state =1))])\n",
    "lasso = Pipeline([('scalar3',StandardScaler()), ('Lasso',Lasso(random_state = 1))])\n"
   ]
  },
  {
   "cell_type": "code",
   "execution_count": 43,
   "id": "52aa51bf",
   "metadata": {},
   "outputs": [],
   "source": [
    "base_model = crossval(dum,X_train,y_train,5)\n",
    "lr_model = crossval(lr,X_train,y_train,5)\n",
    "el_model = crossval(el,X_train,y_train,5)\n",
    "lasso_model = crossval(lasso,X_train,y_train,5)\n",
    "rfr_model = crossval(rfr, X_train,y_train,5)\n"
   ]
  },
  {
   "cell_type": "code",
   "execution_count": 44,
   "id": "1fb3c372",
   "metadata": {},
   "outputs": [
    {
     "data": {
      "text/html": [
       "<div>\n",
       "<style scoped>\n",
       "    .dataframe tbody tr th:only-of-type {\n",
       "        vertical-align: middle;\n",
       "    }\n",
       "\n",
       "    .dataframe tbody tr th {\n",
       "        vertical-align: top;\n",
       "    }\n",
       "\n",
       "    .dataframe thead th {\n",
       "        text-align: right;\n",
       "    }\n",
       "</style>\n",
       "<table border=\"1\" class=\"dataframe\">\n",
       "  <thead>\n",
       "    <tr style=\"text-align: right;\">\n",
       "      <th></th>\n",
       "      <th>Base Model</th>\n",
       "      <th>Linear Regression</th>\n",
       "      <th>Elastic_net</th>\n",
       "      <th>Lasso</th>\n",
       "      <th>RandomForest</th>\n",
       "    </tr>\n",
       "  </thead>\n",
       "  <tbody>\n",
       "    <tr>\n",
       "      <th>0</th>\n",
       "      <td>0.089511</td>\n",
       "      <td>0.090959</td>\n",
       "      <td>0.076847</td>\n",
       "      <td>0.08053</td>\n",
       "      <td>0.100879</td>\n",
       "    </tr>\n",
       "  </tbody>\n",
       "</table>\n",
       "</div>"
      ],
      "text/plain": [
       "   Base Model  Linear Regression  Elastic_net    Lasso  RandomForest\n",
       "0    0.089511           0.090959     0.076847  0.08053      0.100879"
      ]
     },
     "execution_count": 44,
     "metadata": {},
     "output_type": "execute_result"
    }
   ],
   "source": [
    "d = {'Base Model':base_model, 'Linear Regression':lr_model, 'Elastic_net': el_model,'Lasso':lasso_model, 'RandomForest':rfr_model}\n",
    "new_data = pd.DataFrame( data = d ,index=[0])\n",
    "new_data.head()"
   ]
  },
  {
   "cell_type": "markdown",
   "id": "fb71ae36",
   "metadata": {},
   "source": [
    "We can see that Elastic_Net was our best result "
   ]
  },
  {
   "cell_type": "code",
   "execution_count": 45,
   "id": "8fb2d8bb",
   "metadata": {},
   "outputs": [],
   "source": [
    "X_train, X_test, y_train, y_test = train_test_split(X_train, y_train, test_size = 0.2, random_state=1)\n",
    "\n",
    "cols = list(X_train.columns)\n",
    "scaler = StandardScaler()\n",
    "X_train[cols] = scaler.fit_transform(X_train[cols])\n",
    "X_valid[cols] = scaler.transform(X_valid[cols])\n",
    "X_test[cols] = scaler.transform(X_test[cols])\n",
    "\n"
   ]
  },
  {
   "cell_type": "code",
   "execution_count": 66,
   "id": "88fd73c5",
   "metadata": {},
   "outputs": [
    {
     "name": "stdout",
     "output_type": "stream",
     "text": [
      "8.68720157114929\n"
     ]
    }
   ],
   "source": [
    "\n",
    "smape_score = make_scorer(smape_final)\n",
    "parametersGrid = {\"max_iter\": [1, 5, 10],\n",
    "                      \"alpha\": [0.0001, 0.001, 0.01, 0.1, 1, 10, 100],\n",
    "                      \"l1_ratio\": np.arange(0.0, 1.0, 0.1)}\n",
    "\n",
    "                    \n",
    "\n",
    "\n",
    "model = GridSearchCV(ElasticNet(random_state = 1,),parametersGrid, scoring = smape_score).fit(X_train,y_train)\n",
    "predict = model.predict(X_test)\n",
    "print(smape_final(y_test,predict)*100)   \n",
    "\n",
    "\n",
    "    "
   ]
  },
  {
   "cell_type": "code",
   "execution_count": 67,
   "id": "07aca6b3",
   "metadata": {},
   "outputs": [
    {
     "data": {
      "text/html": [
       "<div>\n",
       "<style scoped>\n",
       "    .dataframe tbody tr th:only-of-type {\n",
       "        vertical-align: middle;\n",
       "    }\n",
       "\n",
       "    .dataframe tbody tr th {\n",
       "        vertical-align: top;\n",
       "    }\n",
       "\n",
       "    .dataframe thead th {\n",
       "        text-align: right;\n",
       "    }\n",
       "</style>\n",
       "<table border=\"1\" class=\"dataframe\">\n",
       "  <thead>\n",
       "    <tr style=\"text-align: right;\">\n",
       "      <th></th>\n",
       "      <th>mean_fit_time</th>\n",
       "      <th>std_fit_time</th>\n",
       "      <th>mean_score_time</th>\n",
       "      <th>std_score_time</th>\n",
       "      <th>param_alpha</th>\n",
       "      <th>param_l1_ratio</th>\n",
       "      <th>param_max_iter</th>\n",
       "      <th>params</th>\n",
       "      <th>split0_test_score</th>\n",
       "      <th>split1_test_score</th>\n",
       "      <th>split2_test_score</th>\n",
       "      <th>split3_test_score</th>\n",
       "      <th>split4_test_score</th>\n",
       "      <th>mean_test_score</th>\n",
       "      <th>std_test_score</th>\n",
       "      <th>rank_test_score</th>\n",
       "    </tr>\n",
       "  </thead>\n",
       "  <tbody>\n",
       "    <tr>\n",
       "      <th>62</th>\n",
       "      <td>0.017541</td>\n",
       "      <td>0.001352</td>\n",
       "      <td>0.001794</td>\n",
       "      <td>0.000399</td>\n",
       "      <td>0.01</td>\n",
       "      <td>0.0</td>\n",
       "      <td>10</td>\n",
       "      <td>{'alpha': 0.01, 'l1_ratio': 0.0, 'max_iter': 10}</td>\n",
       "      <td>0.061346</td>\n",
       "      <td>0.064026</td>\n",
       "      <td>0.059523</td>\n",
       "      <td>0.061095</td>\n",
       "      <td>0.063573</td>\n",
       "      <td>0.061913</td>\n",
       "      <td>0.001669</td>\n",
       "      <td>210</td>\n",
       "    </tr>\n",
       "  </tbody>\n",
       "</table>\n",
       "</div>"
      ],
      "text/plain": [
       "    mean_fit_time  std_fit_time  mean_score_time  std_score_time param_alpha  \\\n",
       "62       0.017541      0.001352         0.001794        0.000399        0.01   \n",
       "\n",
       "   param_l1_ratio param_max_iter  \\\n",
       "62            0.0             10   \n",
       "\n",
       "                                              params  split0_test_score  \\\n",
       "62  {'alpha': 0.01, 'l1_ratio': 0.0, 'max_iter': 10}           0.061346   \n",
       "\n",
       "    split1_test_score  split2_test_score  split3_test_score  \\\n",
       "62           0.064026           0.059523           0.061095   \n",
       "\n",
       "    split4_test_score  mean_test_score  std_test_score  rank_test_score  \n",
       "62           0.063573         0.061913        0.001669              210  "
      ]
     },
     "metadata": {},
     "output_type": "display_data"
    }
   ],
   "source": [
    "results= pd.DataFrame(model.cv_results_)\n",
    "display(results[results['mean_test_score'] == results.mean_test_score.min()])"
   ]
  },
  {
   "cell_type": "markdown",
   "id": "eb0ee8ba",
   "metadata": {},
   "source": [
    "Aftering Tuning the alpha parameter, alpha = 1 is our lowest score"
   ]
  },
  {
   "cell_type": "code",
   "execution_count": 61,
   "id": "29b11cc6",
   "metadata": {},
   "outputs": [
    {
     "name": "stdout",
     "output_type": "stream",
     "text": [
      "10.73352410963514\n"
     ]
    }
   ],
   "source": [
    "#Using base model to get a smape_final\n",
    "test_basemodel = DummyRegressor(strategy = 'mean')\n",
    "test_basemodel.fit(X_valid,y_valid)\n",
    "predict = test_basemodel.predict(X_valid)\n",
    "print(smape_final(y_valid,predict)*100)"
   ]
  },
  {
   "cell_type": "code",
   "execution_count": 72,
   "id": "6c4452b5",
   "metadata": {},
   "outputs": [
    {
     "name": "stdout",
     "output_type": "stream",
     "text": [
      "9.36953063614576\n"
     ]
    }
   ],
   "source": [
    "model = ElasticNet(alpha= 1, l1_ratio =  0.0, max_iter =  1000)\n",
    "model = model.fit(X_valid,y_valid)\n",
    "predict = model.predict(X_valid)\n",
    "print(smape_final(y_valid,predict)*100)\n"
   ]
  },
  {
   "cell_type": "markdown",
   "id": "57be4a80",
   "metadata": {},
   "source": [
    "We can see that our Model had a lower score then our Dummy Regressor. "
   ]
  },
  {
   "cell_type": "code",
   "execution_count": 63,
   "id": "3b2631b0",
   "metadata": {},
   "outputs": [
    {
     "data": {
      "text/html": [
       "<div>\n",
       "<style scoped>\n",
       "    .dataframe tbody tr th:only-of-type {\n",
       "        vertical-align: middle;\n",
       "    }\n",
       "\n",
       "    .dataframe tbody tr th {\n",
       "        vertical-align: top;\n",
       "    }\n",
       "\n",
       "    .dataframe thead th {\n",
       "        text-align: right;\n",
       "    }\n",
       "</style>\n",
       "<table border=\"1\" class=\"dataframe\">\n",
       "  <thead>\n",
       "    <tr style=\"text-align: right;\">\n",
       "      <th></th>\n",
       "      <th>features</th>\n",
       "      <th>Coef</th>\n",
       "    </tr>\n",
       "  </thead>\n",
       "  <tbody>\n",
       "    <tr>\n",
       "      <th>0</th>\n",
       "      <td>primary_cleaner.input.sulfate</td>\n",
       "      <td>1.061237</td>\n",
       "    </tr>\n",
       "    <tr>\n",
       "      <th>16</th>\n",
       "      <td>rougher.input.feed_sol</td>\n",
       "      <td>1.035313</td>\n",
       "    </tr>\n",
       "    <tr>\n",
       "      <th>40</th>\n",
       "      <td>secondary_cleaner.state.floatbank3_b_air</td>\n",
       "      <td>0.497482</td>\n",
       "    </tr>\n",
       "    <tr>\n",
       "      <th>19</th>\n",
       "      <td>rougher.input.floatbank10_xanthate</td>\n",
       "      <td>0.340940</td>\n",
       "    </tr>\n",
       "    <tr>\n",
       "      <th>1</th>\n",
       "      <td>primary_cleaner.input.depressant</td>\n",
       "      <td>0.337435</td>\n",
       "    </tr>\n",
       "    <tr>\n",
       "      <th>3</th>\n",
       "      <td>primary_cleaner.input.xanthate</td>\n",
       "      <td>0.272946</td>\n",
       "    </tr>\n",
       "    <tr>\n",
       "      <th>50</th>\n",
       "      <td>secondary_cleaner.state.floatbank6_a_air</td>\n",
       "      <td>0.268497</td>\n",
       "    </tr>\n",
       "    <tr>\n",
       "      <th>38</th>\n",
       "      <td>secondary_cleaner.state.floatbank3_a_air</td>\n",
       "      <td>0.246257</td>\n",
       "    </tr>\n",
       "    <tr>\n",
       "      <th>17</th>\n",
       "      <td>rougher.input.feed_au</td>\n",
       "      <td>0.210780</td>\n",
       "    </tr>\n",
       "    <tr>\n",
       "      <th>21</th>\n",
       "      <td>rougher.input.floatbank11_xanthate</td>\n",
       "      <td>0.188820</td>\n",
       "    </tr>\n",
       "    <tr>\n",
       "      <th>12</th>\n",
       "      <td>rougher.input.feed_ag</td>\n",
       "      <td>0.175103</td>\n",
       "    </tr>\n",
       "    <tr>\n",
       "      <th>24</th>\n",
       "      <td>rougher.state.floatbank10_b_air</td>\n",
       "      <td>0.123988</td>\n",
       "    </tr>\n",
       "    <tr>\n",
       "      <th>18</th>\n",
       "      <td>rougher.input.floatbank10_sulfate</td>\n",
       "      <td>0.069059</td>\n",
       "    </tr>\n",
       "    <tr>\n",
       "      <th>7</th>\n",
       "      <td>primary_cleaner.state.floatbank8_b_level</td>\n",
       "      <td>0.065155</td>\n",
       "    </tr>\n",
       "    <tr>\n",
       "      <th>26</th>\n",
       "      <td>rougher.state.floatbank10_c_air</td>\n",
       "      <td>0.061469</td>\n",
       "    </tr>\n",
       "    <tr>\n",
       "      <th>8</th>\n",
       "      <td>primary_cleaner.state.floatbank8_c_air</td>\n",
       "      <td>0.008123</td>\n",
       "    </tr>\n",
       "    <tr>\n",
       "      <th>28</th>\n",
       "      <td>rougher.state.floatbank10_d_air</td>\n",
       "      <td>0.003155</td>\n",
       "    </tr>\n",
       "    <tr>\n",
       "      <th>43</th>\n",
       "      <td>secondary_cleaner.state.floatbank4_a_level</td>\n",
       "      <td>0.000000</td>\n",
       "    </tr>\n",
       "    <tr>\n",
       "      <th>37</th>\n",
       "      <td>secondary_cleaner.state.floatbank2_b_level</td>\n",
       "      <td>0.000000</td>\n",
       "    </tr>\n",
       "    <tr>\n",
       "      <th>5</th>\n",
       "      <td>primary_cleaner.state.floatbank8_a_level</td>\n",
       "      <td>-0.000000</td>\n",
       "    </tr>\n",
       "    <tr>\n",
       "      <th>39</th>\n",
       "      <td>secondary_cleaner.state.floatbank3_a_level</td>\n",
       "      <td>-0.000000</td>\n",
       "    </tr>\n",
       "    <tr>\n",
       "      <th>4</th>\n",
       "      <td>primary_cleaner.state.floatbank8_a_air</td>\n",
       "      <td>-0.000000</td>\n",
       "    </tr>\n",
       "    <tr>\n",
       "      <th>41</th>\n",
       "      <td>secondary_cleaner.state.floatbank3_b_level</td>\n",
       "      <td>-0.000000</td>\n",
       "    </tr>\n",
       "    <tr>\n",
       "      <th>42</th>\n",
       "      <td>secondary_cleaner.state.floatbank4_a_air</td>\n",
       "      <td>0.000000</td>\n",
       "    </tr>\n",
       "    <tr>\n",
       "      <th>15</th>\n",
       "      <td>rougher.input.feed_size</td>\n",
       "      <td>0.000000</td>\n",
       "    </tr>\n",
       "    <tr>\n",
       "      <th>35</th>\n",
       "      <td>secondary_cleaner.state.floatbank2_a_level</td>\n",
       "      <td>-0.000000</td>\n",
       "    </tr>\n",
       "    <tr>\n",
       "      <th>44</th>\n",
       "      <td>secondary_cleaner.state.floatbank4_b_air</td>\n",
       "      <td>0.000000</td>\n",
       "    </tr>\n",
       "    <tr>\n",
       "      <th>45</th>\n",
       "      <td>secondary_cleaner.state.floatbank4_b_level</td>\n",
       "      <td>-0.000000</td>\n",
       "    </tr>\n",
       "    <tr>\n",
       "      <th>46</th>\n",
       "      <td>secondary_cleaner.state.floatbank5_a_air</td>\n",
       "      <td>0.000000</td>\n",
       "    </tr>\n",
       "    <tr>\n",
       "      <th>47</th>\n",
       "      <td>secondary_cleaner.state.floatbank5_a_level</td>\n",
       "      <td>0.000000</td>\n",
       "    </tr>\n",
       "    <tr>\n",
       "      <th>48</th>\n",
       "      <td>secondary_cleaner.state.floatbank5_b_air</td>\n",
       "      <td>0.000000</td>\n",
       "    </tr>\n",
       "    <tr>\n",
       "      <th>49</th>\n",
       "      <td>secondary_cleaner.state.floatbank5_b_level</td>\n",
       "      <td>-0.000000</td>\n",
       "    </tr>\n",
       "    <tr>\n",
       "      <th>2</th>\n",
       "      <td>primary_cleaner.input.feed_size</td>\n",
       "      <td>0.000000</td>\n",
       "    </tr>\n",
       "    <tr>\n",
       "      <th>36</th>\n",
       "      <td>secondary_cleaner.state.floatbank2_b_air</td>\n",
       "      <td>0.000000</td>\n",
       "    </tr>\n",
       "    <tr>\n",
       "      <th>33</th>\n",
       "      <td>rougher.state.floatbank10_f_level</td>\n",
       "      <td>0.000000</td>\n",
       "    </tr>\n",
       "    <tr>\n",
       "      <th>34</th>\n",
       "      <td>secondary_cleaner.state.floatbank2_a_air</td>\n",
       "      <td>0.000000</td>\n",
       "    </tr>\n",
       "    <tr>\n",
       "      <th>14</th>\n",
       "      <td>rougher.input.feed_rate</td>\n",
       "      <td>0.000000</td>\n",
       "    </tr>\n",
       "    <tr>\n",
       "      <th>13</th>\n",
       "      <td>rougher.input.feed_pb</td>\n",
       "      <td>-0.000000</td>\n",
       "    </tr>\n",
       "    <tr>\n",
       "      <th>10</th>\n",
       "      <td>primary_cleaner.state.floatbank8_d_air</td>\n",
       "      <td>0.000000</td>\n",
       "    </tr>\n",
       "    <tr>\n",
       "      <th>20</th>\n",
       "      <td>rougher.input.floatbank11_sulfate</td>\n",
       "      <td>0.000000</td>\n",
       "    </tr>\n",
       "    <tr>\n",
       "      <th>22</th>\n",
       "      <td>rougher.state.floatbank10_a_air</td>\n",
       "      <td>0.000000</td>\n",
       "    </tr>\n",
       "    <tr>\n",
       "      <th>23</th>\n",
       "      <td>rougher.state.floatbank10_a_level</td>\n",
       "      <td>-0.000000</td>\n",
       "    </tr>\n",
       "    <tr>\n",
       "      <th>25</th>\n",
       "      <td>rougher.state.floatbank10_b_level</td>\n",
       "      <td>0.000000</td>\n",
       "    </tr>\n",
       "    <tr>\n",
       "      <th>6</th>\n",
       "      <td>primary_cleaner.state.floatbank8_b_air</td>\n",
       "      <td>0.000000</td>\n",
       "    </tr>\n",
       "    <tr>\n",
       "      <th>27</th>\n",
       "      <td>rougher.state.floatbank10_c_level</td>\n",
       "      <td>0.000000</td>\n",
       "    </tr>\n",
       "    <tr>\n",
       "      <th>29</th>\n",
       "      <td>rougher.state.floatbank10_d_level</td>\n",
       "      <td>0.000000</td>\n",
       "    </tr>\n",
       "    <tr>\n",
       "      <th>30</th>\n",
       "      <td>rougher.state.floatbank10_e_air</td>\n",
       "      <td>0.000000</td>\n",
       "    </tr>\n",
       "    <tr>\n",
       "      <th>31</th>\n",
       "      <td>rougher.state.floatbank10_e_level</td>\n",
       "      <td>0.000000</td>\n",
       "    </tr>\n",
       "    <tr>\n",
       "      <th>32</th>\n",
       "      <td>rougher.state.floatbank10_f_air</td>\n",
       "      <td>0.000000</td>\n",
       "    </tr>\n",
       "    <tr>\n",
       "      <th>51</th>\n",
       "      <td>secondary_cleaner.state.floatbank6_a_level</td>\n",
       "      <td>0.000000</td>\n",
       "    </tr>\n",
       "    <tr>\n",
       "      <th>9</th>\n",
       "      <td>primary_cleaner.state.floatbank8_c_level</td>\n",
       "      <td>-0.107003</td>\n",
       "    </tr>\n",
       "    <tr>\n",
       "      <th>11</th>\n",
       "      <td>primary_cleaner.state.floatbank8_d_level</td>\n",
       "      <td>-0.128850</td>\n",
       "    </tr>\n",
       "  </tbody>\n",
       "</table>\n",
       "</div>"
      ],
      "text/plain": [
       "                                      features      Coef\n",
       "0                primary_cleaner.input.sulfate  1.061237\n",
       "16                      rougher.input.feed_sol  1.035313\n",
       "40    secondary_cleaner.state.floatbank3_b_air  0.497482\n",
       "19          rougher.input.floatbank10_xanthate  0.340940\n",
       "1             primary_cleaner.input.depressant  0.337435\n",
       "3               primary_cleaner.input.xanthate  0.272946\n",
       "50    secondary_cleaner.state.floatbank6_a_air  0.268497\n",
       "38    secondary_cleaner.state.floatbank3_a_air  0.246257\n",
       "17                       rougher.input.feed_au  0.210780\n",
       "21          rougher.input.floatbank11_xanthate  0.188820\n",
       "12                       rougher.input.feed_ag  0.175103\n",
       "24             rougher.state.floatbank10_b_air  0.123988\n",
       "18           rougher.input.floatbank10_sulfate  0.069059\n",
       "7     primary_cleaner.state.floatbank8_b_level  0.065155\n",
       "26             rougher.state.floatbank10_c_air  0.061469\n",
       "8       primary_cleaner.state.floatbank8_c_air  0.008123\n",
       "28             rougher.state.floatbank10_d_air  0.003155\n",
       "43  secondary_cleaner.state.floatbank4_a_level  0.000000\n",
       "37  secondary_cleaner.state.floatbank2_b_level  0.000000\n",
       "5     primary_cleaner.state.floatbank8_a_level -0.000000\n",
       "39  secondary_cleaner.state.floatbank3_a_level -0.000000\n",
       "4       primary_cleaner.state.floatbank8_a_air -0.000000\n",
       "41  secondary_cleaner.state.floatbank3_b_level -0.000000\n",
       "42    secondary_cleaner.state.floatbank4_a_air  0.000000\n",
       "15                     rougher.input.feed_size  0.000000\n",
       "35  secondary_cleaner.state.floatbank2_a_level -0.000000\n",
       "44    secondary_cleaner.state.floatbank4_b_air  0.000000\n",
       "45  secondary_cleaner.state.floatbank4_b_level -0.000000\n",
       "46    secondary_cleaner.state.floatbank5_a_air  0.000000\n",
       "47  secondary_cleaner.state.floatbank5_a_level  0.000000\n",
       "48    secondary_cleaner.state.floatbank5_b_air  0.000000\n",
       "49  secondary_cleaner.state.floatbank5_b_level -0.000000\n",
       "2              primary_cleaner.input.feed_size  0.000000\n",
       "36    secondary_cleaner.state.floatbank2_b_air  0.000000\n",
       "33           rougher.state.floatbank10_f_level  0.000000\n",
       "34    secondary_cleaner.state.floatbank2_a_air  0.000000\n",
       "14                     rougher.input.feed_rate  0.000000\n",
       "13                       rougher.input.feed_pb -0.000000\n",
       "10      primary_cleaner.state.floatbank8_d_air  0.000000\n",
       "20           rougher.input.floatbank11_sulfate  0.000000\n",
       "22             rougher.state.floatbank10_a_air  0.000000\n",
       "23           rougher.state.floatbank10_a_level -0.000000\n",
       "25           rougher.state.floatbank10_b_level  0.000000\n",
       "6       primary_cleaner.state.floatbank8_b_air  0.000000\n",
       "27           rougher.state.floatbank10_c_level  0.000000\n",
       "29           rougher.state.floatbank10_d_level  0.000000\n",
       "30             rougher.state.floatbank10_e_air  0.000000\n",
       "31           rougher.state.floatbank10_e_level  0.000000\n",
       "32             rougher.state.floatbank10_f_air  0.000000\n",
       "51  secondary_cleaner.state.floatbank6_a_level  0.000000\n",
       "9     primary_cleaner.state.floatbank8_c_level -0.107003\n",
       "11    primary_cleaner.state.floatbank8_d_level -0.128850"
      ]
     },
     "execution_count": 63,
     "metadata": {},
     "output_type": "execute_result"
    }
   ],
   "source": [
    "data = pd.DataFrame(data = {'features':model.feature_names_in_, 'Coef':model.coef_[0]})\n",
    "data.sort_values('Coef' ,ascending = False)"
   ]
  },
  {
   "cell_type": "code",
   "execution_count": 64,
   "id": "7261c14f",
   "metadata": {},
   "outputs": [
    {
     "data": {
      "text/html": [
       "<div>\n",
       "<style scoped>\n",
       "    .dataframe tbody tr th:only-of-type {\n",
       "        vertical-align: middle;\n",
       "    }\n",
       "\n",
       "    .dataframe tbody tr th {\n",
       "        vertical-align: top;\n",
       "    }\n",
       "\n",
       "    .dataframe thead th {\n",
       "        text-align: right;\n",
       "    }\n",
       "</style>\n",
       "<table border=\"1\" class=\"dataframe\">\n",
       "  <thead>\n",
       "    <tr style=\"text-align: right;\">\n",
       "      <th></th>\n",
       "      <th>features</th>\n",
       "      <th>Coef</th>\n",
       "    </tr>\n",
       "  </thead>\n",
       "  <tbody>\n",
       "    <tr>\n",
       "      <th>40</th>\n",
       "      <td>secondary_cleaner.state.floatbank3_b_air</td>\n",
       "      <td>1.030636</td>\n",
       "    </tr>\n",
       "    <tr>\n",
       "      <th>0</th>\n",
       "      <td>primary_cleaner.input.sulfate</td>\n",
       "      <td>1.004445</td>\n",
       "    </tr>\n",
       "    <tr>\n",
       "      <th>16</th>\n",
       "      <td>rougher.input.feed_sol</td>\n",
       "      <td>0.522246</td>\n",
       "    </tr>\n",
       "    <tr>\n",
       "      <th>36</th>\n",
       "      <td>secondary_cleaner.state.floatbank2_b_air</td>\n",
       "      <td>0.460147</td>\n",
       "    </tr>\n",
       "    <tr>\n",
       "      <th>21</th>\n",
       "      <td>rougher.input.floatbank11_xanthate</td>\n",
       "      <td>0.355639</td>\n",
       "    </tr>\n",
       "    <tr>\n",
       "      <th>19</th>\n",
       "      <td>rougher.input.floatbank10_xanthate</td>\n",
       "      <td>0.289128</td>\n",
       "    </tr>\n",
       "    <tr>\n",
       "      <th>3</th>\n",
       "      <td>primary_cleaner.input.xanthate</td>\n",
       "      <td>0.266349</td>\n",
       "    </tr>\n",
       "    <tr>\n",
       "      <th>44</th>\n",
       "      <td>secondary_cleaner.state.floatbank4_b_air</td>\n",
       "      <td>0.242456</td>\n",
       "    </tr>\n",
       "    <tr>\n",
       "      <th>38</th>\n",
       "      <td>secondary_cleaner.state.floatbank3_a_air</td>\n",
       "      <td>0.222833</td>\n",
       "    </tr>\n",
       "    <tr>\n",
       "      <th>17</th>\n",
       "      <td>rougher.input.feed_au</td>\n",
       "      <td>0.111384</td>\n",
       "    </tr>\n",
       "    <tr>\n",
       "      <th>13</th>\n",
       "      <td>rougher.input.feed_pb</td>\n",
       "      <td>0.029568</td>\n",
       "    </tr>\n",
       "    <tr>\n",
       "      <th>45</th>\n",
       "      <td>secondary_cleaner.state.floatbank4_b_level</td>\n",
       "      <td>-0.000000</td>\n",
       "    </tr>\n",
       "    <tr>\n",
       "      <th>42</th>\n",
       "      <td>secondary_cleaner.state.floatbank4_a_air</td>\n",
       "      <td>0.000000</td>\n",
       "    </tr>\n",
       "    <tr>\n",
       "      <th>46</th>\n",
       "      <td>secondary_cleaner.state.floatbank5_a_air</td>\n",
       "      <td>0.000000</td>\n",
       "    </tr>\n",
       "    <tr>\n",
       "      <th>27</th>\n",
       "      <td>rougher.state.floatbank10_c_level</td>\n",
       "      <td>0.000000</td>\n",
       "    </tr>\n",
       "    <tr>\n",
       "      <th>47</th>\n",
       "      <td>secondary_cleaner.state.floatbank5_a_level</td>\n",
       "      <td>-0.000000</td>\n",
       "    </tr>\n",
       "    <tr>\n",
       "      <th>34</th>\n",
       "      <td>secondary_cleaner.state.floatbank2_a_air</td>\n",
       "      <td>-0.000000</td>\n",
       "    </tr>\n",
       "    <tr>\n",
       "      <th>48</th>\n",
       "      <td>secondary_cleaner.state.floatbank5_b_air</td>\n",
       "      <td>0.000000</td>\n",
       "    </tr>\n",
       "    <tr>\n",
       "      <th>33</th>\n",
       "      <td>rougher.state.floatbank10_f_level</td>\n",
       "      <td>0.000000</td>\n",
       "    </tr>\n",
       "    <tr>\n",
       "      <th>49</th>\n",
       "      <td>secondary_cleaner.state.floatbank5_b_level</td>\n",
       "      <td>-0.000000</td>\n",
       "    </tr>\n",
       "    <tr>\n",
       "      <th>32</th>\n",
       "      <td>rougher.state.floatbank10_f_air</td>\n",
       "      <td>-0.000000</td>\n",
       "    </tr>\n",
       "    <tr>\n",
       "      <th>50</th>\n",
       "      <td>secondary_cleaner.state.floatbank6_a_air</td>\n",
       "      <td>0.000000</td>\n",
       "    </tr>\n",
       "    <tr>\n",
       "      <th>31</th>\n",
       "      <td>rougher.state.floatbank10_e_level</td>\n",
       "      <td>0.000000</td>\n",
       "    </tr>\n",
       "    <tr>\n",
       "      <th>30</th>\n",
       "      <td>rougher.state.floatbank10_e_air</td>\n",
       "      <td>-0.000000</td>\n",
       "    </tr>\n",
       "    <tr>\n",
       "      <th>29</th>\n",
       "      <td>rougher.state.floatbank10_d_level</td>\n",
       "      <td>0.000000</td>\n",
       "    </tr>\n",
       "    <tr>\n",
       "      <th>51</th>\n",
       "      <td>secondary_cleaner.state.floatbank6_a_level</td>\n",
       "      <td>-0.000000</td>\n",
       "    </tr>\n",
       "    <tr>\n",
       "      <th>14</th>\n",
       "      <td>rougher.input.feed_rate</td>\n",
       "      <td>-0.000000</td>\n",
       "    </tr>\n",
       "    <tr>\n",
       "      <th>6</th>\n",
       "      <td>primary_cleaner.state.floatbank8_b_air</td>\n",
       "      <td>0.000000</td>\n",
       "    </tr>\n",
       "    <tr>\n",
       "      <th>8</th>\n",
       "      <td>primary_cleaner.state.floatbank8_c_air</td>\n",
       "      <td>0.000000</td>\n",
       "    </tr>\n",
       "    <tr>\n",
       "      <th>10</th>\n",
       "      <td>primary_cleaner.state.floatbank8_d_air</td>\n",
       "      <td>0.000000</td>\n",
       "    </tr>\n",
       "    <tr>\n",
       "      <th>5</th>\n",
       "      <td>primary_cleaner.state.floatbank8_a_level</td>\n",
       "      <td>-0.000000</td>\n",
       "    </tr>\n",
       "    <tr>\n",
       "      <th>25</th>\n",
       "      <td>rougher.state.floatbank10_b_level</td>\n",
       "      <td>0.000000</td>\n",
       "    </tr>\n",
       "    <tr>\n",
       "      <th>12</th>\n",
       "      <td>rougher.input.feed_ag</td>\n",
       "      <td>0.000000</td>\n",
       "    </tr>\n",
       "    <tr>\n",
       "      <th>4</th>\n",
       "      <td>primary_cleaner.state.floatbank8_a_air</td>\n",
       "      <td>0.000000</td>\n",
       "    </tr>\n",
       "    <tr>\n",
       "      <th>7</th>\n",
       "      <td>primary_cleaner.state.floatbank8_b_level</td>\n",
       "      <td>-0.000000</td>\n",
       "    </tr>\n",
       "    <tr>\n",
       "      <th>15</th>\n",
       "      <td>rougher.input.feed_size</td>\n",
       "      <td>-0.000000</td>\n",
       "    </tr>\n",
       "    <tr>\n",
       "      <th>18</th>\n",
       "      <td>rougher.input.floatbank10_sulfate</td>\n",
       "      <td>-0.000000</td>\n",
       "    </tr>\n",
       "    <tr>\n",
       "      <th>20</th>\n",
       "      <td>rougher.input.floatbank11_sulfate</td>\n",
       "      <td>-0.000000</td>\n",
       "    </tr>\n",
       "    <tr>\n",
       "      <th>23</th>\n",
       "      <td>rougher.state.floatbank10_a_level</td>\n",
       "      <td>-0.000000</td>\n",
       "    </tr>\n",
       "    <tr>\n",
       "      <th>2</th>\n",
       "      <td>primary_cleaner.input.feed_size</td>\n",
       "      <td>0.000000</td>\n",
       "    </tr>\n",
       "    <tr>\n",
       "      <th>41</th>\n",
       "      <td>secondary_cleaner.state.floatbank3_b_level</td>\n",
       "      <td>-0.024158</td>\n",
       "    </tr>\n",
       "    <tr>\n",
       "      <th>1</th>\n",
       "      <td>primary_cleaner.input.depressant</td>\n",
       "      <td>-0.037899</td>\n",
       "    </tr>\n",
       "    <tr>\n",
       "      <th>9</th>\n",
       "      <td>primary_cleaner.state.floatbank8_c_level</td>\n",
       "      <td>-0.063759</td>\n",
       "    </tr>\n",
       "    <tr>\n",
       "      <th>24</th>\n",
       "      <td>rougher.state.floatbank10_b_air</td>\n",
       "      <td>-0.099584</td>\n",
       "    </tr>\n",
       "    <tr>\n",
       "      <th>35</th>\n",
       "      <td>secondary_cleaner.state.floatbank2_a_level</td>\n",
       "      <td>-0.136680</td>\n",
       "    </tr>\n",
       "    <tr>\n",
       "      <th>22</th>\n",
       "      <td>rougher.state.floatbank10_a_air</td>\n",
       "      <td>-0.173773</td>\n",
       "    </tr>\n",
       "    <tr>\n",
       "      <th>43</th>\n",
       "      <td>secondary_cleaner.state.floatbank4_a_level</td>\n",
       "      <td>-0.223850</td>\n",
       "    </tr>\n",
       "    <tr>\n",
       "      <th>26</th>\n",
       "      <td>rougher.state.floatbank10_c_air</td>\n",
       "      <td>-0.242903</td>\n",
       "    </tr>\n",
       "    <tr>\n",
       "      <th>37</th>\n",
       "      <td>secondary_cleaner.state.floatbank2_b_level</td>\n",
       "      <td>-0.417317</td>\n",
       "    </tr>\n",
       "    <tr>\n",
       "      <th>28</th>\n",
       "      <td>rougher.state.floatbank10_d_air</td>\n",
       "      <td>-0.438852</td>\n",
       "    </tr>\n",
       "    <tr>\n",
       "      <th>39</th>\n",
       "      <td>secondary_cleaner.state.floatbank3_a_level</td>\n",
       "      <td>-0.480062</td>\n",
       "    </tr>\n",
       "    <tr>\n",
       "      <th>11</th>\n",
       "      <td>primary_cleaner.state.floatbank8_d_level</td>\n",
       "      <td>-0.534106</td>\n",
       "    </tr>\n",
       "  </tbody>\n",
       "</table>\n",
       "</div>"
      ],
      "text/plain": [
       "                                      features      Coef\n",
       "40    secondary_cleaner.state.floatbank3_b_air  1.030636\n",
       "0                primary_cleaner.input.sulfate  1.004445\n",
       "16                      rougher.input.feed_sol  0.522246\n",
       "36    secondary_cleaner.state.floatbank2_b_air  0.460147\n",
       "21          rougher.input.floatbank11_xanthate  0.355639\n",
       "19          rougher.input.floatbank10_xanthate  0.289128\n",
       "3               primary_cleaner.input.xanthate  0.266349\n",
       "44    secondary_cleaner.state.floatbank4_b_air  0.242456\n",
       "38    secondary_cleaner.state.floatbank3_a_air  0.222833\n",
       "17                       rougher.input.feed_au  0.111384\n",
       "13                       rougher.input.feed_pb  0.029568\n",
       "45  secondary_cleaner.state.floatbank4_b_level -0.000000\n",
       "42    secondary_cleaner.state.floatbank4_a_air  0.000000\n",
       "46    secondary_cleaner.state.floatbank5_a_air  0.000000\n",
       "27           rougher.state.floatbank10_c_level  0.000000\n",
       "47  secondary_cleaner.state.floatbank5_a_level -0.000000\n",
       "34    secondary_cleaner.state.floatbank2_a_air -0.000000\n",
       "48    secondary_cleaner.state.floatbank5_b_air  0.000000\n",
       "33           rougher.state.floatbank10_f_level  0.000000\n",
       "49  secondary_cleaner.state.floatbank5_b_level -0.000000\n",
       "32             rougher.state.floatbank10_f_air -0.000000\n",
       "50    secondary_cleaner.state.floatbank6_a_air  0.000000\n",
       "31           rougher.state.floatbank10_e_level  0.000000\n",
       "30             rougher.state.floatbank10_e_air -0.000000\n",
       "29           rougher.state.floatbank10_d_level  0.000000\n",
       "51  secondary_cleaner.state.floatbank6_a_level -0.000000\n",
       "14                     rougher.input.feed_rate -0.000000\n",
       "6       primary_cleaner.state.floatbank8_b_air  0.000000\n",
       "8       primary_cleaner.state.floatbank8_c_air  0.000000\n",
       "10      primary_cleaner.state.floatbank8_d_air  0.000000\n",
       "5     primary_cleaner.state.floatbank8_a_level -0.000000\n",
       "25           rougher.state.floatbank10_b_level  0.000000\n",
       "12                       rougher.input.feed_ag  0.000000\n",
       "4       primary_cleaner.state.floatbank8_a_air  0.000000\n",
       "7     primary_cleaner.state.floatbank8_b_level -0.000000\n",
       "15                     rougher.input.feed_size -0.000000\n",
       "18           rougher.input.floatbank10_sulfate -0.000000\n",
       "20           rougher.input.floatbank11_sulfate -0.000000\n",
       "23           rougher.state.floatbank10_a_level -0.000000\n",
       "2              primary_cleaner.input.feed_size  0.000000\n",
       "41  secondary_cleaner.state.floatbank3_b_level -0.024158\n",
       "1             primary_cleaner.input.depressant -0.037899\n",
       "9     primary_cleaner.state.floatbank8_c_level -0.063759\n",
       "24             rougher.state.floatbank10_b_air -0.099584\n",
       "35  secondary_cleaner.state.floatbank2_a_level -0.136680\n",
       "22             rougher.state.floatbank10_a_air -0.173773\n",
       "43  secondary_cleaner.state.floatbank4_a_level -0.223850\n",
       "26             rougher.state.floatbank10_c_air -0.242903\n",
       "37  secondary_cleaner.state.floatbank2_b_level -0.417317\n",
       "28             rougher.state.floatbank10_d_air -0.438852\n",
       "39  secondary_cleaner.state.floatbank3_a_level -0.480062\n",
       "11    primary_cleaner.state.floatbank8_d_level -0.534106"
      ]
     },
     "execution_count": 64,
     "metadata": {},
     "output_type": "execute_result"
    }
   ],
   "source": [
    "data = pd.DataFrame(data = {'features': model.feature_names_in_ , 'Coef':model.coef_[1]})\n",
    "data.sort_values('Coef' ,ascending = False)"
   ]
  },
  {
   "cell_type": "markdown",
   "id": "5600569a",
   "metadata": {},
   "source": [
    "We can see some our best feautures have high correlations to target columns. Those columns infer that they are most profitable at the Rougher and Final Section"
   ]
  },
  {
   "cell_type": "markdown",
   "id": "d028d4b9",
   "metadata": {},
   "source": [
    "# Conclusion"
   ]
  },
  {
   "cell_type": "markdown",
   "id": "9102ed68",
   "metadata": {},
   "source": [
    "Zyfra. The company develops efficiency solutions for heavy industry. We created a model that would predict the amount of gold recovered from gold ore.\n",
    "First we familiarized ourself with the process and the data. Then we went into and check our recovery calculation  and Used MAE between rougher.output,recovery\n",
    "Which was close to zero. Then we went on to process our data and checked na values and filled in with the mean. \n",
    "In the following section we have performed an exploratory data analysis and reached the following conclusions\n",
    "As for the gold concentration (au), there is a clear trend towards quality improvement after each stage: the share of gold is higher and higher on average as we proceed with purification \n",
    "WE see the opposite trend for other metals : the more we purify the feed, the lower gets the share of this metal\n",
    "The train and test distributions of feed particle sizes are very close to each other, which means that we will not have a problem of applying a model trained on the train set to the test set\n",
    "In the next step we developed and tested, using cross-validation, several ML algorithms and tuned the best model's hyperparameters. Elastic Net regression model showed the lowest score with a score of 9%"
   ]
  },
  {
   "cell_type": "code",
   "execution_count": null,
   "id": "37a1b129",
   "metadata": {},
   "outputs": [],
   "source": []
  },
  {
   "cell_type": "code",
   "execution_count": null,
   "id": "9c0f5f2f",
   "metadata": {},
   "outputs": [],
   "source": []
  }
 ],
 "metadata": {
  "ExecuteTimeLog": [
   {
    "duration": 5,
    "start_time": "2022-06-07T01:49:13.724Z"
   },
   {
    "duration": 823,
    "start_time": "2022-06-07T01:49:14.695Z"
   },
   {
    "duration": 20,
    "start_time": "2022-06-07T01:49:16.570Z"
   },
   {
    "duration": 21,
    "start_time": "2022-06-07T01:49:16.763Z"
   },
   {
    "duration": 22,
    "start_time": "2022-06-07T01:49:16.932Z"
   },
   {
    "duration": 20,
    "start_time": "2022-06-07T01:49:17.115Z"
   },
   {
    "duration": 14,
    "start_time": "2022-06-07T01:49:17.308Z"
   },
   {
    "duration": 20,
    "start_time": "2022-06-07T01:49:17.470Z"
   },
   {
    "duration": 3,
    "start_time": "2022-06-07T01:49:18.146Z"
   },
   {
    "duration": 6,
    "start_time": "2022-06-07T01:49:18.638Z"
   },
   {
    "duration": 20,
    "start_time": "2022-06-07T01:49:18.850Z"
   },
   {
    "duration": 21,
    "start_time": "2022-06-07T01:49:19.026Z"
   },
   {
    "duration": 6,
    "start_time": "2022-06-07T01:49:19.208Z"
   },
   {
    "duration": 3,
    "start_time": "2022-06-07T01:49:19.950Z"
   },
   {
    "duration": 8,
    "start_time": "2022-06-07T01:49:20.153Z"
   },
   {
    "duration": 8,
    "start_time": "2022-06-07T01:49:20.909Z"
   },
   {
    "duration": 94,
    "start_time": "2022-06-07T01:49:21.086Z"
   },
   {
    "duration": 32,
    "start_time": "2022-06-07T01:49:21.266Z"
   },
   {
    "duration": 14,
    "start_time": "2022-06-07T01:49:21.448Z"
   },
   {
    "duration": 11,
    "start_time": "2022-06-07T01:49:21.637Z"
   },
   {
    "duration": 9,
    "start_time": "2022-06-07T01:49:22.016Z"
   },
   {
    "duration": 10,
    "start_time": "2022-06-07T01:49:22.211Z"
   },
   {
    "duration": 15,
    "start_time": "2022-06-07T01:49:22.407Z"
   },
   {
    "duration": 11,
    "start_time": "2022-06-07T01:49:22.774Z"
   },
   {
    "duration": 10,
    "start_time": "2022-06-07T01:49:22.967Z"
   },
   {
    "duration": 6,
    "start_time": "2022-06-07T01:49:23.174Z"
   },
   {
    "duration": 1390,
    "start_time": "2022-06-07T01:49:24.124Z"
   },
   {
    "duration": 1498,
    "start_time": "2022-06-07T01:49:25.516Z"
   },
   {
    "duration": 1525,
    "start_time": "2022-06-07T01:49:27.016Z"
   },
   {
    "duration": 1630,
    "start_time": "2022-06-07T01:49:28.544Z"
   },
   {
    "duration": 970,
    "start_time": "2022-06-07T01:49:30.176Z"
   },
   {
    "duration": 1037,
    "start_time": "2022-06-07T01:49:31.148Z"
   },
   {
    "duration": 20,
    "start_time": "2022-06-07T01:49:32.187Z"
   },
   {
    "duration": 877,
    "start_time": "2022-06-07T01:49:32.210Z"
   },
   {
    "duration": 23,
    "start_time": "2022-06-07T01:49:33.089Z"
   },
   {
    "duration": 21,
    "start_time": "2022-06-07T01:49:33.115Z"
   },
   {
    "duration": 10,
    "start_time": "2022-06-07T01:49:33.138Z"
   },
   {
    "duration": 11,
    "start_time": "2022-06-07T01:49:33.150Z"
   },
   {
    "duration": 6,
    "start_time": "2022-06-07T01:49:33.163Z"
   },
   {
    "duration": 29,
    "start_time": "2022-06-07T01:49:33.171Z"
   },
   {
    "duration": 19,
    "start_time": "2022-06-07T01:49:33.201Z"
   },
   {
    "duration": 52309,
    "start_time": "2022-06-07T01:49:33.222Z"
   },
   {
    "duration": 11,
    "start_time": "2022-06-07T01:50:25.533Z"
   },
   {
    "duration": 49,
    "start_time": "2022-06-07T01:50:25.545Z"
   },
   {
    "duration": 77598,
    "start_time": "2022-06-07T01:50:25.597Z"
   },
   {
    "duration": 9,
    "start_time": "2022-06-07T01:51:43.198Z"
   },
   {
    "duration": 191,
    "start_time": "2022-06-07T01:51:43.215Z"
   },
   {
    "duration": 203,
    "start_time": "2022-06-07T01:51:43.414Z"
   },
   {
    "duration": 0,
    "start_time": "2022-06-07T01:51:43.618Z"
   },
   {
    "duration": 13,
    "start_time": "2022-06-07T01:52:28.264Z"
   },
   {
    "duration": 13,
    "start_time": "2022-06-07T01:52:29.150Z"
   },
   {
    "duration": 13,
    "start_time": "2022-06-07T01:53:02.766Z"
   },
   {
    "duration": 10,
    "start_time": "2022-06-07T01:53:03.707Z"
   },
   {
    "duration": 11,
    "start_time": "2022-06-07T01:53:14.756Z"
   },
   {
    "duration": 10,
    "start_time": "2022-06-07T01:53:46.514Z"
   },
   {
    "duration": 13,
    "start_time": "2022-06-07T01:53:47.410Z"
   },
   {
    "duration": 4,
    "start_time": "2022-06-07T01:54:19.041Z"
   },
   {
    "duration": 10,
    "start_time": "2022-06-07T01:54:25.946Z"
   },
   {
    "duration": 11,
    "start_time": "2022-06-07T01:54:26.869Z"
   },
   {
    "duration": 102,
    "start_time": "2022-06-07T01:54:59.700Z"
   },
   {
    "duration": 12,
    "start_time": "2022-06-07T01:55:01.141Z"
   },
   {
    "duration": 12,
    "start_time": "2022-06-07T01:55:01.925Z"
   },
   {
    "duration": 140,
    "start_time": "2022-06-07T01:55:32.156Z"
   },
   {
    "duration": 30,
    "start_time": "2022-06-07T01:55:54.772Z"
   },
   {
    "duration": 12,
    "start_time": "2022-06-07T01:55:56.207Z"
   },
   {
    "duration": 10,
    "start_time": "2022-06-07T01:55:57.186Z"
   },
   {
    "duration": 34,
    "start_time": "2022-06-07T01:56:36.868Z"
   },
   {
    "duration": 59272,
    "start_time": "2022-06-07T01:56:37.633Z"
   },
   {
    "duration": 94,
    "start_time": "2022-06-07T01:57:37.001Z"
   },
   {
    "duration": 104,
    "start_time": "2022-06-07T01:57:37.097Z"
   },
   {
    "duration": 192,
    "start_time": "2022-06-07T01:57:37.203Z"
   },
   {
    "duration": 0,
    "start_time": "2022-06-07T01:57:37.397Z"
   },
   {
    "duration": 11,
    "start_time": "2022-06-07T01:57:43.103Z"
   },
   {
    "duration": 18,
    "start_time": "2022-06-07T01:59:23.032Z"
   },
   {
    "duration": 1243,
    "start_time": "2022-06-07T20:56:19.531Z"
   },
   {
    "duration": 7,
    "start_time": "2022-06-07T20:56:24.133Z"
   },
   {
    "duration": 5757,
    "start_time": "2022-06-07T20:57:43.407Z"
   },
   {
    "duration": 8627,
    "start_time": "2022-06-07T21:16:50.760Z"
   },
   {
    "duration": 6,
    "start_time": "2022-06-07T21:17:13.978Z"
   },
   {
    "duration": 1555,
    "start_time": "2022-06-07T21:17:17.422Z"
   },
   {
    "duration": 25,
    "start_time": "2022-06-07T21:17:18.979Z"
   },
   {
    "duration": 28,
    "start_time": "2022-06-07T21:17:20.353Z"
   },
   {
    "duration": 37,
    "start_time": "2022-06-07T21:17:20.535Z"
   },
   {
    "duration": 19,
    "start_time": "2022-06-07T21:17:20.707Z"
   },
   {
    "duration": 13,
    "start_time": "2022-06-07T21:17:20.888Z"
   },
   {
    "duration": 19,
    "start_time": "2022-06-07T21:17:21.108Z"
   },
   {
    "duration": 3,
    "start_time": "2022-06-07T21:17:21.836Z"
   },
   {
    "duration": 22,
    "start_time": "2022-06-07T21:17:24.971Z"
   },
   {
    "duration": 32,
    "start_time": "2022-06-07T21:17:24.995Z"
   },
   {
    "duration": 18,
    "start_time": "2022-06-07T21:17:25.029Z"
   },
   {
    "duration": 6,
    "start_time": "2022-06-07T21:17:25.180Z"
   },
   {
    "duration": 7,
    "start_time": "2022-06-07T21:17:25.188Z"
   },
   {
    "duration": 15,
    "start_time": "2022-06-07T21:17:25.196Z"
   },
   {
    "duration": 13,
    "start_time": "2022-06-07T21:17:25.213Z"
   },
   {
    "duration": 147,
    "start_time": "2022-06-07T21:17:25.228Z"
   },
   {
    "duration": 43,
    "start_time": "2022-06-07T21:17:50.587Z"
   },
   {
    "duration": 13,
    "start_time": "2022-06-07T21:17:50.787Z"
   },
   {
    "duration": 10,
    "start_time": "2022-06-07T21:17:50.990Z"
   },
   {
    "duration": 12,
    "start_time": "2022-06-07T21:17:51.362Z"
   },
   {
    "duration": 17,
    "start_time": "2022-06-07T21:17:51.561Z"
   },
   {
    "duration": 12,
    "start_time": "2022-06-07T21:17:51.721Z"
   },
   {
    "duration": 11,
    "start_time": "2022-06-07T21:17:52.093Z"
   },
   {
    "duration": 8,
    "start_time": "2022-06-07T21:17:52.303Z"
   },
   {
    "duration": 8,
    "start_time": "2022-06-07T21:17:52.494Z"
   },
   {
    "duration": 1540,
    "start_time": "2022-06-07T21:17:53.467Z"
   },
   {
    "duration": 1502,
    "start_time": "2022-06-07T21:17:55.009Z"
   },
   {
    "duration": 1715,
    "start_time": "2022-06-07T21:17:56.513Z"
   },
   {
    "duration": 1658,
    "start_time": "2022-06-07T21:17:58.231Z"
   },
   {
    "duration": 968,
    "start_time": "2022-06-07T21:17:59.891Z"
   },
   {
    "duration": 251,
    "start_time": "2022-06-07T21:19:04.887Z"
   },
   {
    "duration": 964,
    "start_time": "2022-06-07T21:19:43.873Z"
   },
   {
    "duration": 828,
    "start_time": "2022-06-07T21:19:55.566Z"
   },
   {
    "duration": 237,
    "start_time": "2022-06-07T21:20:17.372Z"
   },
   {
    "duration": 1164,
    "start_time": "2022-06-07T21:20:20.652Z"
   },
   {
    "duration": 236,
    "start_time": "2022-06-07T21:20:26.060Z"
   },
   {
    "duration": 5,
    "start_time": "2022-06-07T21:20:31.770Z"
   },
   {
    "duration": 960,
    "start_time": "2022-06-07T21:20:31.965Z"
   },
   {
    "duration": 28,
    "start_time": "2022-06-07T21:20:32.927Z"
   },
   {
    "duration": 42,
    "start_time": "2022-06-07T21:20:32.957Z"
   },
   {
    "duration": 24,
    "start_time": "2022-06-07T21:20:33.001Z"
   },
   {
    "duration": 38,
    "start_time": "2022-06-07T21:20:33.026Z"
   },
   {
    "duration": 17,
    "start_time": "2022-06-07T21:20:33.066Z"
   },
   {
    "duration": 18,
    "start_time": "2022-06-07T21:20:33.085Z"
   },
   {
    "duration": 3,
    "start_time": "2022-06-07T21:20:33.695Z"
   },
   {
    "duration": 6,
    "start_time": "2022-06-07T21:20:33.878Z"
   },
   {
    "duration": 17,
    "start_time": "2022-06-07T21:20:34.074Z"
   },
   {
    "duration": 16,
    "start_time": "2022-06-07T21:20:34.267Z"
   },
   {
    "duration": 7,
    "start_time": "2022-06-07T21:20:34.445Z"
   },
   {
    "duration": 4,
    "start_time": "2022-06-07T21:20:35.172Z"
   },
   {
    "duration": 12,
    "start_time": "2022-06-07T21:20:35.371Z"
   },
   {
    "duration": 7,
    "start_time": "2022-06-07T21:20:36.313Z"
   },
   {
    "duration": 103,
    "start_time": "2022-06-07T21:20:36.482Z"
   },
   {
    "duration": 37,
    "start_time": "2022-06-07T21:20:36.697Z"
   },
   {
    "duration": 29,
    "start_time": "2022-06-07T21:20:36.869Z"
   },
   {
    "duration": 11,
    "start_time": "2022-06-07T21:20:37.091Z"
   },
   {
    "duration": 11,
    "start_time": "2022-06-07T21:20:37.477Z"
   },
   {
    "duration": 14,
    "start_time": "2022-06-07T21:20:37.650Z"
   },
   {
    "duration": 19,
    "start_time": "2022-06-07T21:20:37.853Z"
   },
   {
    "duration": 21,
    "start_time": "2022-06-07T21:20:38.254Z"
   },
   {
    "duration": 9,
    "start_time": "2022-06-07T21:20:38.406Z"
   },
   {
    "duration": 7,
    "start_time": "2022-06-07T21:20:38.671Z"
   },
   {
    "duration": 1441,
    "start_time": "2022-06-07T21:20:39.970Z"
   },
   {
    "duration": 1627,
    "start_time": "2022-06-07T21:20:41.413Z"
   },
   {
    "duration": 1857,
    "start_time": "2022-06-07T21:20:43.045Z"
   },
   {
    "duration": 1647,
    "start_time": "2022-06-07T21:20:44.908Z"
   },
   {
    "duration": 1203,
    "start_time": "2022-06-07T21:20:46.557Z"
   },
   {
    "duration": 1202,
    "start_time": "2022-06-07T21:20:57.676Z"
   },
   {
    "duration": 1458,
    "start_time": "2022-06-07T21:22:24.565Z"
   },
   {
    "duration": 1207,
    "start_time": "2022-06-07T21:23:08.687Z"
   },
   {
    "duration": 640,
    "start_time": "2022-06-07T21:23:13.605Z"
   },
   {
    "duration": 15,
    "start_time": "2022-06-07T21:23:15.532Z"
   },
   {
    "duration": 2143,
    "start_time": "2022-06-07T21:23:15.699Z"
   },
   {
    "duration": 17,
    "start_time": "2022-06-07T21:23:17.844Z"
   },
   {
    "duration": 19,
    "start_time": "2022-06-07T21:23:17.863Z"
   },
   {
    "duration": 10,
    "start_time": "2022-06-07T21:23:17.885Z"
   },
   {
    "duration": 3,
    "start_time": "2022-06-07T21:23:23.424Z"
   },
   {
    "duration": 3,
    "start_time": "2022-06-07T21:23:23.734Z"
   },
   {
    "duration": 2,
    "start_time": "2022-06-07T21:23:23.970Z"
   },
   {
    "duration": 8,
    "start_time": "2022-06-07T21:23:25.061Z"
   },
   {
    "duration": 49576,
    "start_time": "2022-06-07T21:23:25.302Z"
   },
   {
    "duration": 10,
    "start_time": "2022-06-07T21:24:14.880Z"
   },
   {
    "duration": 31,
    "start_time": "2022-06-07T21:24:14.891Z"
   },
   {
    "duration": 37,
    "start_time": "2022-06-07T21:27:13.398Z"
   },
   {
    "duration": 13,
    "start_time": "2022-06-07T21:30:38.196Z"
   },
   {
    "duration": 13,
    "start_time": "2022-06-07T21:31:10.326Z"
   },
   {
    "duration": 84,
    "start_time": "2022-06-07T21:31:44.747Z"
   },
   {
    "duration": 1414,
    "start_time": "2022-06-07T21:31:56.309Z"
   },
   {
    "duration": 86,
    "start_time": "2022-06-07T21:32:04.392Z"
   },
   {
    "duration": 3,
    "start_time": "2022-06-07T21:32:10.380Z"
   },
   {
    "duration": 3,
    "start_time": "2022-06-07T21:32:10.881Z"
   },
   {
    "duration": 3,
    "start_time": "2022-06-07T21:32:11.414Z"
   },
   {
    "duration": 18,
    "start_time": "2022-06-07T21:32:15.252Z"
   },
   {
    "duration": 13,
    "start_time": "2022-06-07T21:32:15.952Z"
   },
   {
    "duration": 6,
    "start_time": "2022-06-07T21:32:24.983Z"
   },
   {
    "duration": 902,
    "start_time": "2022-06-07T21:32:25.166Z"
   },
   {
    "duration": 32,
    "start_time": "2022-06-07T21:32:26.070Z"
   },
   {
    "duration": 39,
    "start_time": "2022-06-07T21:32:26.104Z"
   },
   {
    "duration": 28,
    "start_time": "2022-06-07T21:32:26.145Z"
   },
   {
    "duration": 28,
    "start_time": "2022-06-07T21:32:26.175Z"
   },
   {
    "duration": 13,
    "start_time": "2022-06-07T21:32:26.205Z"
   },
   {
    "duration": 26,
    "start_time": "2022-06-07T21:32:26.241Z"
   },
   {
    "duration": 4,
    "start_time": "2022-06-07T21:32:26.910Z"
   },
   {
    "duration": 8,
    "start_time": "2022-06-07T21:32:27.066Z"
   },
   {
    "duration": 23,
    "start_time": "2022-06-07T21:32:27.255Z"
   },
   {
    "duration": 23,
    "start_time": "2022-06-07T21:32:27.448Z"
   },
   {
    "duration": 10,
    "start_time": "2022-06-07T21:32:27.760Z"
   },
   {
    "duration": 4,
    "start_time": "2022-06-07T21:32:28.529Z"
   },
   {
    "duration": 9,
    "start_time": "2022-06-07T21:32:28.693Z"
   },
   {
    "duration": 9,
    "start_time": "2022-06-07T21:32:29.673Z"
   },
   {
    "duration": 124,
    "start_time": "2022-06-07T21:32:29.852Z"
   },
   {
    "duration": 37,
    "start_time": "2022-06-07T21:32:30.060Z"
   },
   {
    "duration": 18,
    "start_time": "2022-06-07T21:32:30.249Z"
   },
   {
    "duration": 18,
    "start_time": "2022-06-07T21:32:30.450Z"
   },
   {
    "duration": 11,
    "start_time": "2022-06-07T21:32:30.834Z"
   },
   {
    "duration": 12,
    "start_time": "2022-06-07T21:32:31.050Z"
   },
   {
    "duration": 15,
    "start_time": "2022-06-07T21:32:31.235Z"
   },
   {
    "duration": 11,
    "start_time": "2022-06-07T21:32:31.654Z"
   },
   {
    "duration": 10,
    "start_time": "2022-06-07T21:32:31.848Z"
   },
   {
    "duration": 13,
    "start_time": "2022-06-07T21:32:32.035Z"
   },
   {
    "duration": 1474,
    "start_time": "2022-06-07T21:32:33.269Z"
   },
   {
    "duration": 1372,
    "start_time": "2022-06-07T21:32:34.746Z"
   },
   {
    "duration": 1769,
    "start_time": "2022-06-07T21:32:36.120Z"
   },
   {
    "duration": 1712,
    "start_time": "2022-06-07T21:32:37.891Z"
   },
   {
    "duration": 989,
    "start_time": "2022-06-07T21:32:39.605Z"
   },
   {
    "duration": 1477,
    "start_time": "2022-06-07T21:32:40.595Z"
   },
   {
    "duration": 686,
    "start_time": "2022-06-07T21:32:42.074Z"
   },
   {
    "duration": 12,
    "start_time": "2022-06-07T21:32:42.762Z"
   },
   {
    "duration": 2050,
    "start_time": "2022-06-07T21:32:42.776Z"
   },
   {
    "duration": 12,
    "start_time": "2022-06-07T21:32:44.827Z"
   },
   {
    "duration": 28,
    "start_time": "2022-06-07T21:32:44.840Z"
   },
   {
    "duration": 14,
    "start_time": "2022-06-07T21:32:44.870Z"
   },
   {
    "duration": 8,
    "start_time": "2022-06-07T21:32:44.886Z"
   },
   {
    "duration": 10,
    "start_time": "2022-06-07T21:32:44.896Z"
   },
   {
    "duration": 6,
    "start_time": "2022-06-07T21:32:44.909Z"
   },
   {
    "duration": 5,
    "start_time": "2022-06-07T21:32:44.916Z"
   },
   {
    "duration": 55500,
    "start_time": "2022-06-07T21:32:44.922Z"
   },
   {
    "duration": 10,
    "start_time": "2022-06-07T21:33:40.423Z"
   },
   {
    "duration": 37,
    "start_time": "2022-06-07T21:33:40.435Z"
   },
   {
    "duration": 15,
    "start_time": "2022-06-07T21:33:40.474Z"
   },
   {
    "duration": 0,
    "start_time": "2022-06-07T21:33:40.491Z"
   },
   {
    "duration": 0,
    "start_time": "2022-06-07T21:33:40.492Z"
   },
   {
    "duration": 0,
    "start_time": "2022-06-07T21:33:40.493Z"
   },
   {
    "duration": 0,
    "start_time": "2022-06-07T21:33:40.495Z"
   },
   {
    "duration": 0,
    "start_time": "2022-06-07T21:49:23.251Z"
   },
   {
    "duration": 0,
    "start_time": "2022-06-07T21:49:23.252Z"
   },
   {
    "duration": 0,
    "start_time": "2022-06-07T21:49:23.253Z"
   },
   {
    "duration": 0,
    "start_time": "2022-06-07T21:49:23.254Z"
   },
   {
    "duration": 0,
    "start_time": "2022-06-07T21:49:23.255Z"
   },
   {
    "duration": 365561,
    "start_time": "2022-06-07T21:50:15.884Z"
   },
   {
    "duration": 70,
    "start_time": "2022-06-07T21:56:21.873Z"
   },
   {
    "duration": 202,
    "start_time": "2022-06-07T21:56:21.945Z"
   },
   {
    "duration": 103,
    "start_time": "2022-06-07T21:56:22.148Z"
   },
   {
    "duration": 13,
    "start_time": "2022-06-07T21:56:22.253Z"
   },
   {
    "duration": 36,
    "start_time": "2022-06-07T21:56:22.268Z"
   },
   {
    "duration": 28,
    "start_time": "2022-06-07T21:57:54.401Z"
   },
   {
    "duration": 26,
    "start_time": "2022-06-07T21:57:59.509Z"
   },
   {
    "duration": 101,
    "start_time": "2022-06-07T22:03:04.250Z"
   },
   {
    "duration": 2713509,
    "start_time": "2022-06-07T22:03:25.732Z"
   },
   {
    "duration": 10,
    "start_time": "2022-06-07T23:43:31.894Z"
   },
   {
    "duration": 7,
    "start_time": "2022-06-07T23:44:20.369Z"
   },
   {
    "duration": 16,
    "start_time": "2022-06-07T23:44:36.399Z"
   },
   {
    "duration": 30,
    "start_time": "2022-06-07T23:44:43.707Z"
   },
   {
    "duration": 23,
    "start_time": "2022-06-07T23:45:45.804Z"
   }
  ],
  "kernelspec": {
   "display_name": "Python 3 (ipykernel)",
   "language": "python",
   "name": "python3"
  },
  "language_info": {
   "codemirror_mode": {
    "name": "ipython",
    "version": 3
   },
   "file_extension": ".py",
   "mimetype": "text/x-python",
   "name": "python",
   "nbconvert_exporter": "python",
   "pygments_lexer": "ipython3",
   "version": "3.8.8"
  },
  "toc": {
   "base_numbering": 1,
   "nav_menu": {},
   "number_sections": true,
   "sideBar": true,
   "skip_h1_title": true,
   "title_cell": "Table of Contents",
   "title_sidebar": "Contents",
   "toc_cell": false,
   "toc_position": {},
   "toc_section_display": true,
   "toc_window_display": false
  }
 },
 "nbformat": 4,
 "nbformat_minor": 5
}
